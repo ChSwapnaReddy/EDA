{
 "cells": [
  {
   "cell_type": "code",
   "execution_count": 1,
   "id": "2ba31e8a-19ba-4c46-aacf-8221daaabccc",
   "metadata": {
    "scrolled": true
   },
   "outputs": [
    {
     "data": {
      "text/html": [
       "<div>\n",
       "<style scoped>\n",
       "    .dataframe tbody tr th:only-of-type {\n",
       "        vertical-align: middle;\n",
       "    }\n",
       "\n",
       "    .dataframe tbody tr th {\n",
       "        vertical-align: top;\n",
       "    }\n",
       "\n",
       "    .dataframe thead th {\n",
       "        text-align: right;\n",
       "    }\n",
       "</style>\n",
       "<table border=\"1\" class=\"dataframe\">\n",
       "  <thead>\n",
       "    <tr style=\"text-align: right;\">\n",
       "      <th></th>\n",
       "      <th>age</th>\n",
       "      <th>job</th>\n",
       "      <th>marital</th>\n",
       "      <th>education</th>\n",
       "      <th>default</th>\n",
       "      <th>balance</th>\n",
       "      <th>housing</th>\n",
       "      <th>loan</th>\n",
       "      <th>contact</th>\n",
       "      <th>day</th>\n",
       "      <th>month</th>\n",
       "      <th>duration</th>\n",
       "      <th>campaign</th>\n",
       "      <th>pdays</th>\n",
       "      <th>previous</th>\n",
       "      <th>poutcome</th>\n",
       "      <th>y</th>\n",
       "    </tr>\n",
       "  </thead>\n",
       "  <tbody>\n",
       "    <tr>\n",
       "      <th>0</th>\n",
       "      <td>30</td>\n",
       "      <td>unemployed</td>\n",
       "      <td>married</td>\n",
       "      <td>primary</td>\n",
       "      <td>no</td>\n",
       "      <td>1787</td>\n",
       "      <td>no</td>\n",
       "      <td>no</td>\n",
       "      <td>cellular</td>\n",
       "      <td>19</td>\n",
       "      <td>oct</td>\n",
       "      <td>79</td>\n",
       "      <td>1</td>\n",
       "      <td>-1</td>\n",
       "      <td>0</td>\n",
       "      <td>unknown</td>\n",
       "      <td>no</td>\n",
       "    </tr>\n",
       "    <tr>\n",
       "      <th>1</th>\n",
       "      <td>33</td>\n",
       "      <td>services</td>\n",
       "      <td>married</td>\n",
       "      <td>secondary</td>\n",
       "      <td>no</td>\n",
       "      <td>4789</td>\n",
       "      <td>yes</td>\n",
       "      <td>yes</td>\n",
       "      <td>cellular</td>\n",
       "      <td>11</td>\n",
       "      <td>may</td>\n",
       "      <td>220</td>\n",
       "      <td>1</td>\n",
       "      <td>339</td>\n",
       "      <td>4</td>\n",
       "      <td>failure</td>\n",
       "      <td>no</td>\n",
       "    </tr>\n",
       "    <tr>\n",
       "      <th>2</th>\n",
       "      <td>35</td>\n",
       "      <td>management</td>\n",
       "      <td>single</td>\n",
       "      <td>tertiary</td>\n",
       "      <td>no</td>\n",
       "      <td>1350</td>\n",
       "      <td>yes</td>\n",
       "      <td>no</td>\n",
       "      <td>cellular</td>\n",
       "      <td>16</td>\n",
       "      <td>apr</td>\n",
       "      <td>185</td>\n",
       "      <td>1</td>\n",
       "      <td>330</td>\n",
       "      <td>1</td>\n",
       "      <td>failure</td>\n",
       "      <td>no</td>\n",
       "    </tr>\n",
       "    <tr>\n",
       "      <th>3</th>\n",
       "      <td>30</td>\n",
       "      <td>management</td>\n",
       "      <td>married</td>\n",
       "      <td>tertiary</td>\n",
       "      <td>no</td>\n",
       "      <td>1476</td>\n",
       "      <td>yes</td>\n",
       "      <td>yes</td>\n",
       "      <td>unknown</td>\n",
       "      <td>3</td>\n",
       "      <td>jun</td>\n",
       "      <td>199</td>\n",
       "      <td>4</td>\n",
       "      <td>-1</td>\n",
       "      <td>0</td>\n",
       "      <td>unknown</td>\n",
       "      <td>no</td>\n",
       "    </tr>\n",
       "    <tr>\n",
       "      <th>4</th>\n",
       "      <td>59</td>\n",
       "      <td>blue-collar</td>\n",
       "      <td>married</td>\n",
       "      <td>secondary</td>\n",
       "      <td>no</td>\n",
       "      <td>0</td>\n",
       "      <td>yes</td>\n",
       "      <td>no</td>\n",
       "      <td>unknown</td>\n",
       "      <td>5</td>\n",
       "      <td>may</td>\n",
       "      <td>226</td>\n",
       "      <td>1</td>\n",
       "      <td>-1</td>\n",
       "      <td>0</td>\n",
       "      <td>unknown</td>\n",
       "      <td>no</td>\n",
       "    </tr>\n",
       "    <tr>\n",
       "      <th>...</th>\n",
       "      <td>...</td>\n",
       "      <td>...</td>\n",
       "      <td>...</td>\n",
       "      <td>...</td>\n",
       "      <td>...</td>\n",
       "      <td>...</td>\n",
       "      <td>...</td>\n",
       "      <td>...</td>\n",
       "      <td>...</td>\n",
       "      <td>...</td>\n",
       "      <td>...</td>\n",
       "      <td>...</td>\n",
       "      <td>...</td>\n",
       "      <td>...</td>\n",
       "      <td>...</td>\n",
       "      <td>...</td>\n",
       "      <td>...</td>\n",
       "    </tr>\n",
       "    <tr>\n",
       "      <th>4516</th>\n",
       "      <td>33</td>\n",
       "      <td>services</td>\n",
       "      <td>married</td>\n",
       "      <td>secondary</td>\n",
       "      <td>no</td>\n",
       "      <td>-333</td>\n",
       "      <td>yes</td>\n",
       "      <td>no</td>\n",
       "      <td>cellular</td>\n",
       "      <td>30</td>\n",
       "      <td>jul</td>\n",
       "      <td>329</td>\n",
       "      <td>5</td>\n",
       "      <td>-1</td>\n",
       "      <td>0</td>\n",
       "      <td>unknown</td>\n",
       "      <td>no</td>\n",
       "    </tr>\n",
       "    <tr>\n",
       "      <th>4517</th>\n",
       "      <td>57</td>\n",
       "      <td>self-employed</td>\n",
       "      <td>married</td>\n",
       "      <td>tertiary</td>\n",
       "      <td>yes</td>\n",
       "      <td>-3313</td>\n",
       "      <td>yes</td>\n",
       "      <td>yes</td>\n",
       "      <td>unknown</td>\n",
       "      <td>9</td>\n",
       "      <td>may</td>\n",
       "      <td>153</td>\n",
       "      <td>1</td>\n",
       "      <td>-1</td>\n",
       "      <td>0</td>\n",
       "      <td>unknown</td>\n",
       "      <td>no</td>\n",
       "    </tr>\n",
       "    <tr>\n",
       "      <th>4518</th>\n",
       "      <td>57</td>\n",
       "      <td>technician</td>\n",
       "      <td>married</td>\n",
       "      <td>secondary</td>\n",
       "      <td>no</td>\n",
       "      <td>295</td>\n",
       "      <td>no</td>\n",
       "      <td>no</td>\n",
       "      <td>cellular</td>\n",
       "      <td>19</td>\n",
       "      <td>aug</td>\n",
       "      <td>151</td>\n",
       "      <td>11</td>\n",
       "      <td>-1</td>\n",
       "      <td>0</td>\n",
       "      <td>unknown</td>\n",
       "      <td>no</td>\n",
       "    </tr>\n",
       "    <tr>\n",
       "      <th>4519</th>\n",
       "      <td>28</td>\n",
       "      <td>blue-collar</td>\n",
       "      <td>married</td>\n",
       "      <td>secondary</td>\n",
       "      <td>no</td>\n",
       "      <td>1137</td>\n",
       "      <td>no</td>\n",
       "      <td>no</td>\n",
       "      <td>cellular</td>\n",
       "      <td>6</td>\n",
       "      <td>feb</td>\n",
       "      <td>129</td>\n",
       "      <td>4</td>\n",
       "      <td>211</td>\n",
       "      <td>3</td>\n",
       "      <td>other</td>\n",
       "      <td>no</td>\n",
       "    </tr>\n",
       "    <tr>\n",
       "      <th>4520</th>\n",
       "      <td>44</td>\n",
       "      <td>entrepreneur</td>\n",
       "      <td>single</td>\n",
       "      <td>tertiary</td>\n",
       "      <td>no</td>\n",
       "      <td>1136</td>\n",
       "      <td>yes</td>\n",
       "      <td>yes</td>\n",
       "      <td>cellular</td>\n",
       "      <td>3</td>\n",
       "      <td>apr</td>\n",
       "      <td>345</td>\n",
       "      <td>2</td>\n",
       "      <td>249</td>\n",
       "      <td>7</td>\n",
       "      <td>other</td>\n",
       "      <td>no</td>\n",
       "    </tr>\n",
       "  </tbody>\n",
       "</table>\n",
       "<p>4521 rows × 17 columns</p>\n",
       "</div>"
      ],
      "text/plain": [
       "      age            job  marital  education default  balance housing loan  \\\n",
       "0      30     unemployed  married    primary      no     1787      no   no   \n",
       "1      33       services  married  secondary      no     4789     yes  yes   \n",
       "2      35     management   single   tertiary      no     1350     yes   no   \n",
       "3      30     management  married   tertiary      no     1476     yes  yes   \n",
       "4      59    blue-collar  married  secondary      no        0     yes   no   \n",
       "...   ...            ...      ...        ...     ...      ...     ...  ...   \n",
       "4516   33       services  married  secondary      no     -333     yes   no   \n",
       "4517   57  self-employed  married   tertiary     yes    -3313     yes  yes   \n",
       "4518   57     technician  married  secondary      no      295      no   no   \n",
       "4519   28    blue-collar  married  secondary      no     1137      no   no   \n",
       "4520   44   entrepreneur   single   tertiary      no     1136     yes  yes   \n",
       "\n",
       "       contact  day month  duration  campaign  pdays  previous poutcome   y  \n",
       "0     cellular   19   oct        79         1     -1         0  unknown  no  \n",
       "1     cellular   11   may       220         1    339         4  failure  no  \n",
       "2     cellular   16   apr       185         1    330         1  failure  no  \n",
       "3      unknown    3   jun       199         4     -1         0  unknown  no  \n",
       "4      unknown    5   may       226         1     -1         0  unknown  no  \n",
       "...        ...  ...   ...       ...       ...    ...       ...      ...  ..  \n",
       "4516  cellular   30   jul       329         5     -1         0  unknown  no  \n",
       "4517   unknown    9   may       153         1     -1         0  unknown  no  \n",
       "4518  cellular   19   aug       151        11     -1         0  unknown  no  \n",
       "4519  cellular    6   feb       129         4    211         3    other  no  \n",
       "4520  cellular    3   apr       345         2    249         7    other  no  \n",
       "\n",
       "[4521 rows x 17 columns]"
      ]
     },
     "execution_count": 1,
     "metadata": {},
     "output_type": "execute_result"
    }
   ],
   "source": [
    "import pandas as pd\n",
    "import numpy as np\n",
    "import matplotlib.pyplot as plt\n",
    "\n",
    "bank_df = pd.read_csv(f\"bank.csv\",sep=';')\n",
    "bank_df"
   ]
  },
  {
   "cell_type": "code",
   "execution_count": 2,
   "id": "ac5c467a-ef72-46c7-8042-90a5d3296667",
   "metadata": {},
   "outputs": [
    {
     "data": {
      "text/plain": [
       "Index(['age', 'balance', 'day', 'duration', 'campaign', 'pdays', 'previous'], dtype='object')"
      ]
     },
     "execution_count": 2,
     "metadata": {},
     "output_type": "execute_result"
    }
   ],
   "source": [
    "num_cols = bank_df.select_dtypes(exclude='object').columns\n",
    "num_cols"
   ]
  },
  {
   "cell_type": "code",
   "execution_count": 22,
   "id": "5ce7479e-5020-4d1c-a0e3-83f7fa260725",
   "metadata": {},
   "outputs": [
    {
     "name": "stdout",
     "output_type": "stream",
     "text": [
      "================loc=================\n",
      "0       30\n",
      "1       33\n",
      "2       35\n",
      "3       30\n",
      "4       59\n",
      "        ..\n",
      "4516    33\n",
      "4517    57\n",
      "4518    57\n",
      "4519    28\n",
      "4520    44\n",
      "Name: age, Length: 4521, dtype: int64\n",
      "===============Min age==================\n",
      "19\n",
      "===============Max age==================\n",
      "87\n"
     ]
    }
   ],
   "source": [
    "# Get age column data\n",
    "print(\"================loc=================\")\n",
    "age_df = bank_df.loc[:,'age']\n",
    "print(age_df)\n",
    "# print(\"===============take==================\")\n",
    "# age_df = bank_df.take([0],axis=1)\n",
    "# print(age_df)\n",
    "# print(\"===============iloc==================\")\n",
    "# age_df = bank_df.iloc[:,0]\n",
    "# print(age_df)\n",
    "print(\"===============Min age==================\")\n",
    "print(min(bank_df['age']))\n",
    "print(\"===============Max age==================\")\n",
    "print(max(bank_df['age']))"
   ]
  },
  {
   "cell_type": "code",
   "execution_count": 20,
   "id": "e01334ba-6da9-462d-a27b-ed8be1f1cd66",
   "metadata": {},
   "outputs": [],
   "source": [
    "# bank_df.loc[1] #or #bank_df.loc[1][:]\n",
    "# bank_df.loc[1]['job']\n",
    "# bank_df.loc[:]['job'] # or # bank_df.loc[:,'job']"
   ]
  },
  {
   "cell_type": "code",
   "execution_count": 23,
   "id": "f97b8eb0-a833-4ab0-8604-2ce0355537aa",
   "metadata": {},
   "outputs": [
    {
     "data": {
      "text/plain": [
       "41.17009511170095"
      ]
     },
     "execution_count": 23,
     "metadata": {},
     "output_type": "execute_result"
    }
   ],
   "source": [
    "# Get mean of the ages\n",
    "mean = sum(bank_df['age'])/len(bank_df['age'])\n",
    "mean"
   ]
  },
  {
   "cell_type": "code",
   "execution_count": 24,
   "id": "5f2009c3-0a27-4cde-b37a-7e04fdbaf919",
   "metadata": {},
   "outputs": [
    {
     "data": {
      "text/plain": [
       "41.17009511170095"
      ]
     },
     "execution_count": 24,
     "metadata": {},
     "output_type": "execute_result"
    }
   ],
   "source": [
    "np.mean(bank_df['age'])"
   ]
  },
  {
   "cell_type": "code",
   "execution_count": 25,
   "id": "9c07dc79-cc38-4791-9f93-28af61106095",
   "metadata": {},
   "outputs": [
    {
     "data": {
      "text/plain": [
       "39.0"
      ]
     },
     "execution_count": 25,
     "metadata": {},
     "output_type": "execute_result"
    }
   ],
   "source": [
    "# Get median of the ages\n",
    "np.median(bank_df['age'])"
   ]
  },
  {
   "cell_type": "code",
   "execution_count": 26,
   "id": "ed6afe8e-a17f-4bb1-9389-3b3e4080cbb8",
   "metadata": {},
   "outputs": [
    {
     "data": {
      "text/plain": [
       "10.575041217961282"
      ]
     },
     "execution_count": 26,
     "metadata": {},
     "output_type": "execute_result"
    }
   ],
   "source": [
    "# Get std of the ages\n",
    "np.std(bank_df['age'])"
   ]
  },
  {
   "cell_type": "code",
   "execution_count": 27,
   "id": "87dd649e-4bb4-47ab-b04e-3f872844e31b",
   "metadata": {},
   "outputs": [
    {
     "name": "stdout",
     "output_type": "stream",
     "text": [
      "Number of balances: 2353\n",
      "The average balance is: 1422.66\n",
      "The median balance is: 444.0\n",
      "Standard deviation of balance = 3009.64\n",
      "3009.31\n"
     ]
    }
   ],
   "source": [
    "# Get count, mean, median and standard deviation of balance\n",
    "count_bal = bank_df['balance'].nunique()\n",
    "mean_bal = round(np.mean(bank_df['balance']),2)\n",
    "median_bal = round(np.median(bank_df['balance']),2)\n",
    "std_bal = round(bank_df['balance'].std(),2)\n",
    "\n",
    "print(f\"Number of balances: {count_bal}\")\n",
    "print(f\"The average balance is: {mean_bal}\")\n",
    "print(f\"The median balance is: {median_bal}\")\n",
    "print(f\"Standard deviation of balance = {std_bal}\")\n",
    "print(round(np.std(bank_df['balance']),2))"
   ]
  },
  {
   "cell_type": "code",
   "execution_count": 3,
   "id": "55b08d29-f700-4931-a5d4-c50f5c764a38",
   "metadata": {},
   "outputs": [
    {
     "data": {
      "text/html": [
       "<div>\n",
       "<style scoped>\n",
       "    .dataframe tbody tr th:only-of-type {\n",
       "        vertical-align: middle;\n",
       "    }\n",
       "\n",
       "    .dataframe tbody tr th {\n",
       "        vertical-align: top;\n",
       "    }\n",
       "\n",
       "    .dataframe thead th {\n",
       "        text-align: right;\n",
       "    }\n",
       "</style>\n",
       "<table border=\"1\" class=\"dataframe\">\n",
       "  <thead>\n",
       "    <tr style=\"text-align: right;\">\n",
       "      <th></th>\n",
       "      <th>Balance</th>\n",
       "    </tr>\n",
       "  </thead>\n",
       "  <tbody>\n",
       "    <tr>\n",
       "      <th>Count</th>\n",
       "      <td>4521.000000</td>\n",
       "    </tr>\n",
       "    <tr>\n",
       "      <th>Min</th>\n",
       "      <td>-3313.000000</td>\n",
       "    </tr>\n",
       "    <tr>\n",
       "      <th>Max</th>\n",
       "      <td>71188.000000</td>\n",
       "    </tr>\n",
       "    <tr>\n",
       "      <th>Mean</th>\n",
       "      <td>1422.657819</td>\n",
       "    </tr>\n",
       "    <tr>\n",
       "      <th>Median</th>\n",
       "      <td>444.000000</td>\n",
       "    </tr>\n",
       "    <tr>\n",
       "      <th>Std</th>\n",
       "      <td>3009.305273</td>\n",
       "    </tr>\n",
       "  </tbody>\n",
       "</table>\n",
       "</div>"
      ],
      "text/plain": [
       "             Balance\n",
       "Count    4521.000000\n",
       "Min     -3313.000000\n",
       "Max     71188.000000\n",
       "Mean     1422.657819\n",
       "Median    444.000000\n",
       "Std      3009.305273"
      ]
     },
     "execution_count": 3,
     "metadata": {},
     "output_type": "execute_result"
    }
   ],
   "source": [
    "# Create DataFrame with Count, min, max, mean, medain, std for balance\n",
    "count_bal = len(bank_df['balance'])\n",
    "min_bal = min(bank_df['balance'])\n",
    "max_bal = max(bank_df['balance'])\n",
    "mean_bal = np.mean(bank_df['balance'])\n",
    "median_bal = np.median(bank_df['balance'])\n",
    "std_bal = np.std(bank_df['balance'])\n",
    "balance_list = [count_bal,min_bal,max_bal,mean_bal,median_bal,std_bal]\n",
    "indices = ['Count','Min','Max','Mean','Median','Std']\n",
    "bal_df = pd.DataFrame(balance_list,columns=['Balance'],index=indices)\n",
    "bal_df"
   ]
  },
  {
   "cell_type": "code",
   "execution_count": 33,
   "id": "84d0eeea-8252-45aa-bf4a-1277d6848547",
   "metadata": {},
   "outputs": [
    {
     "data": {
      "text/html": [
       "<div>\n",
       "<style scoped>\n",
       "    .dataframe tbody tr th:only-of-type {\n",
       "        vertical-align: middle;\n",
       "    }\n",
       "\n",
       "    .dataframe tbody tr th {\n",
       "        vertical-align: top;\n",
       "    }\n",
       "\n",
       "    .dataframe thead th {\n",
       "        text-align: right;\n",
       "    }\n",
       "</style>\n",
       "<table border=\"1\" class=\"dataframe\">\n",
       "  <thead>\n",
       "    <tr style=\"text-align: right;\">\n",
       "      <th></th>\n",
       "      <th>age</th>\n",
       "      <th>balance</th>\n",
       "      <th>day</th>\n",
       "      <th>duration</th>\n",
       "      <th>campaign</th>\n",
       "      <th>pdays</th>\n",
       "      <th>previous</th>\n",
       "    </tr>\n",
       "  </thead>\n",
       "  <tbody>\n",
       "    <tr>\n",
       "      <th>count</th>\n",
       "      <td>4521.000000</td>\n",
       "      <td>4521.000000</td>\n",
       "      <td>4521.000000</td>\n",
       "      <td>4521.000000</td>\n",
       "      <td>4521.000000</td>\n",
       "      <td>4521.000000</td>\n",
       "      <td>4521.000000</td>\n",
       "    </tr>\n",
       "    <tr>\n",
       "      <th>mean</th>\n",
       "      <td>41.170095</td>\n",
       "      <td>1422.657819</td>\n",
       "      <td>15.915284</td>\n",
       "      <td>263.961292</td>\n",
       "      <td>2.793630</td>\n",
       "      <td>39.766645</td>\n",
       "      <td>0.542579</td>\n",
       "    </tr>\n",
       "    <tr>\n",
       "      <th>std</th>\n",
       "      <td>10.576211</td>\n",
       "      <td>3009.638142</td>\n",
       "      <td>8.247667</td>\n",
       "      <td>259.856633</td>\n",
       "      <td>3.109807</td>\n",
       "      <td>100.121124</td>\n",
       "      <td>1.693562</td>\n",
       "    </tr>\n",
       "    <tr>\n",
       "      <th>min</th>\n",
       "      <td>19.000000</td>\n",
       "      <td>-3313.000000</td>\n",
       "      <td>1.000000</td>\n",
       "      <td>4.000000</td>\n",
       "      <td>1.000000</td>\n",
       "      <td>-1.000000</td>\n",
       "      <td>0.000000</td>\n",
       "    </tr>\n",
       "    <tr>\n",
       "      <th>25%</th>\n",
       "      <td>33.000000</td>\n",
       "      <td>69.000000</td>\n",
       "      <td>9.000000</td>\n",
       "      <td>104.000000</td>\n",
       "      <td>1.000000</td>\n",
       "      <td>-1.000000</td>\n",
       "      <td>0.000000</td>\n",
       "    </tr>\n",
       "    <tr>\n",
       "      <th>50%</th>\n",
       "      <td>39.000000</td>\n",
       "      <td>444.000000</td>\n",
       "      <td>16.000000</td>\n",
       "      <td>185.000000</td>\n",
       "      <td>2.000000</td>\n",
       "      <td>-1.000000</td>\n",
       "      <td>0.000000</td>\n",
       "    </tr>\n",
       "    <tr>\n",
       "      <th>75%</th>\n",
       "      <td>49.000000</td>\n",
       "      <td>1480.000000</td>\n",
       "      <td>21.000000</td>\n",
       "      <td>329.000000</td>\n",
       "      <td>3.000000</td>\n",
       "      <td>-1.000000</td>\n",
       "      <td>0.000000</td>\n",
       "    </tr>\n",
       "    <tr>\n",
       "      <th>max</th>\n",
       "      <td>87.000000</td>\n",
       "      <td>71188.000000</td>\n",
       "      <td>31.000000</td>\n",
       "      <td>3025.000000</td>\n",
       "      <td>50.000000</td>\n",
       "      <td>871.000000</td>\n",
       "      <td>25.000000</td>\n",
       "    </tr>\n",
       "  </tbody>\n",
       "</table>\n",
       "</div>"
      ],
      "text/plain": [
       "               age       balance          day     duration     campaign  \\\n",
       "count  4521.000000   4521.000000  4521.000000  4521.000000  4521.000000   \n",
       "mean     41.170095   1422.657819    15.915284   263.961292     2.793630   \n",
       "std      10.576211   3009.638142     8.247667   259.856633     3.109807   \n",
       "min      19.000000  -3313.000000     1.000000     4.000000     1.000000   \n",
       "25%      33.000000     69.000000     9.000000   104.000000     1.000000   \n",
       "50%      39.000000    444.000000    16.000000   185.000000     2.000000   \n",
       "75%      49.000000   1480.000000    21.000000   329.000000     3.000000   \n",
       "max      87.000000  71188.000000    31.000000  3025.000000    50.000000   \n",
       "\n",
       "             pdays     previous  \n",
       "count  4521.000000  4521.000000  \n",
       "mean     39.766645     0.542579  \n",
       "std     100.121124     1.693562  \n",
       "min      -1.000000     0.000000  \n",
       "25%      -1.000000     0.000000  \n",
       "50%      -1.000000     0.000000  \n",
       "75%      -1.000000     0.000000  \n",
       "max     871.000000    25.000000  "
      ]
     },
     "execution_count": 33,
     "metadata": {},
     "output_type": "execute_result"
    }
   ],
   "source": [
    "bank_df.describe()"
   ]
  },
  {
   "cell_type": "code",
   "execution_count": 34,
   "id": "f42fb70b-31f3-4280-a763-45ce03e8a5c5",
   "metadata": {},
   "outputs": [
    {
     "data": {
      "text/plain": [
       "69.0"
      ]
     },
     "execution_count": 34,
     "metadata": {},
     "output_type": "execute_result"
    }
   ],
   "source": [
    "np.percentile(bank_df['balance'],25)"
   ]
  },
  {
   "cell_type": "code",
   "execution_count": 35,
   "id": "3d37bc1c-7651-4f9f-b053-4d4e01a1771f",
   "metadata": {},
   "outputs": [
    {
     "data": {
      "text/plain": [
       "444.0"
      ]
     },
     "execution_count": 35,
     "metadata": {},
     "output_type": "execute_result"
    }
   ],
   "source": [
    "np.percentile(bank_df['balance'],50)"
   ]
  },
  {
   "cell_type": "code",
   "execution_count": 37,
   "id": "e4b09f5a-11e4-49d6-8524-98c5191feee2",
   "metadata": {},
   "outputs": [
    {
     "data": {
      "text/plain": [
       "array([ 263., 1957.])"
      ]
     },
     "execution_count": 37,
     "metadata": {},
     "output_type": "execute_result"
    }
   ],
   "source": [
    "np.percentile(bank_df['balance'],[40,80])"
   ]
  },
  {
   "cell_type": "code",
   "execution_count": 38,
   "id": "2fc42f61-a452-4908-a784-eb82e1ec4e58",
   "metadata": {},
   "outputs": [
    {
     "data": {
      "text/plain": [
       "69.0"
      ]
     },
     "execution_count": 38,
     "metadata": {},
     "output_type": "execute_result"
    }
   ],
   "source": [
    "np.quantile(bank_df['balance'],0.25)"
   ]
  },
  {
   "cell_type": "code",
   "execution_count": 39,
   "id": "b0a88313-c712-41f9-9b2e-5497a4617525",
   "metadata": {},
   "outputs": [
    {
     "data": {
      "text/plain": [
       "array([ 263., 1957.])"
      ]
     },
     "execution_count": 39,
     "metadata": {},
     "output_type": "execute_result"
    }
   ],
   "source": [
    "np.quantile(bank_df['balance'],[0.4,.8])"
   ]
  },
  {
   "cell_type": "code",
   "execution_count": 4,
   "id": "bf731364-7dd9-4772-8c97-1065bff764bb",
   "metadata": {},
   "outputs": [
    {
     "data": {
      "text/html": [
       "<div>\n",
       "<style scoped>\n",
       "    .dataframe tbody tr th:only-of-type {\n",
       "        vertical-align: middle;\n",
       "    }\n",
       "\n",
       "    .dataframe tbody tr th {\n",
       "        vertical-align: top;\n",
       "    }\n",
       "\n",
       "    .dataframe thead th {\n",
       "        text-align: right;\n",
       "    }\n",
       "</style>\n",
       "<table border=\"1\" class=\"dataframe\">\n",
       "  <thead>\n",
       "    <tr style=\"text-align: right;\">\n",
       "      <th></th>\n",
       "      <th>age</th>\n",
       "      <th>balance</th>\n",
       "      <th>day</th>\n",
       "      <th>duration</th>\n",
       "      <th>campaign</th>\n",
       "      <th>pdays</th>\n",
       "      <th>previous</th>\n",
       "    </tr>\n",
       "  </thead>\n",
       "  <tbody>\n",
       "    <tr>\n",
       "      <th>Count</th>\n",
       "      <td>4521.00</td>\n",
       "      <td>4521.00</td>\n",
       "      <td>4521.00</td>\n",
       "      <td>4521.00</td>\n",
       "      <td>4521.00</td>\n",
       "      <td>4521.00</td>\n",
       "      <td>4521.00</td>\n",
       "    </tr>\n",
       "    <tr>\n",
       "      <th>Min</th>\n",
       "      <td>19.00</td>\n",
       "      <td>-3313.00</td>\n",
       "      <td>1.00</td>\n",
       "      <td>4.00</td>\n",
       "      <td>1.00</td>\n",
       "      <td>-1.00</td>\n",
       "      <td>0.00</td>\n",
       "    </tr>\n",
       "    <tr>\n",
       "      <th>Max</th>\n",
       "      <td>87.00</td>\n",
       "      <td>71188.00</td>\n",
       "      <td>31.00</td>\n",
       "      <td>3025.00</td>\n",
       "      <td>50.00</td>\n",
       "      <td>871.00</td>\n",
       "      <td>25.00</td>\n",
       "    </tr>\n",
       "    <tr>\n",
       "      <th>Mean</th>\n",
       "      <td>41.17</td>\n",
       "      <td>1422.66</td>\n",
       "      <td>15.92</td>\n",
       "      <td>263.96</td>\n",
       "      <td>2.79</td>\n",
       "      <td>39.77</td>\n",
       "      <td>0.54</td>\n",
       "    </tr>\n",
       "    <tr>\n",
       "      <th>Median</th>\n",
       "      <td>39.00</td>\n",
       "      <td>444.00</td>\n",
       "      <td>16.00</td>\n",
       "      <td>185.00</td>\n",
       "      <td>2.00</td>\n",
       "      <td>-1.00</td>\n",
       "      <td>0.00</td>\n",
       "    </tr>\n",
       "    <tr>\n",
       "      <th>Std</th>\n",
       "      <td>10.58</td>\n",
       "      <td>3009.31</td>\n",
       "      <td>8.25</td>\n",
       "      <td>259.83</td>\n",
       "      <td>3.11</td>\n",
       "      <td>100.11</td>\n",
       "      <td>1.69</td>\n",
       "    </tr>\n",
       "    <tr>\n",
       "      <th>25P</th>\n",
       "      <td>33.00</td>\n",
       "      <td>69.00</td>\n",
       "      <td>9.00</td>\n",
       "      <td>104.00</td>\n",
       "      <td>1.00</td>\n",
       "      <td>-1.00</td>\n",
       "      <td>0.00</td>\n",
       "    </tr>\n",
       "    <tr>\n",
       "      <th>50P</th>\n",
       "      <td>39.00</td>\n",
       "      <td>444.00</td>\n",
       "      <td>16.00</td>\n",
       "      <td>185.00</td>\n",
       "      <td>2.00</td>\n",
       "      <td>-1.00</td>\n",
       "      <td>0.00</td>\n",
       "    </tr>\n",
       "    <tr>\n",
       "      <th>75P</th>\n",
       "      <td>49.00</td>\n",
       "      <td>1480.00</td>\n",
       "      <td>21.00</td>\n",
       "      <td>329.00</td>\n",
       "      <td>3.00</td>\n",
       "      <td>-1.00</td>\n",
       "      <td>0.00</td>\n",
       "    </tr>\n",
       "  </tbody>\n",
       "</table>\n",
       "</div>"
      ],
      "text/plain": [
       "            age   balance      day  duration  campaign    pdays  previous\n",
       "Count   4521.00   4521.00  4521.00   4521.00   4521.00  4521.00   4521.00\n",
       "Min       19.00  -3313.00     1.00      4.00      1.00    -1.00      0.00\n",
       "Max       87.00  71188.00    31.00   3025.00     50.00   871.00     25.00\n",
       "Mean      41.17   1422.66    15.92    263.96      2.79    39.77      0.54\n",
       "Median    39.00    444.00    16.00    185.00      2.00    -1.00      0.00\n",
       "Std       10.58   3009.31     8.25    259.83      3.11   100.11      1.69\n",
       "25P       33.00     69.00     9.00    104.00      1.00    -1.00      0.00\n",
       "50P       39.00    444.00    16.00    185.00      2.00    -1.00      0.00\n",
       "75P       49.00   1480.00    21.00    329.00      3.00    -1.00      0.00"
      ]
     },
     "execution_count": 4,
     "metadata": {},
     "output_type": "execute_result"
    }
   ],
   "source": [
    "# Create DataFrames for all numerical columns with Count,min,max, mean,median,std, 25p,50p,75percentiles\n",
    "\n",
    "num_cols = bank_df.select_dtypes(exclude='object').columns\n",
    "indices = ['Count','Min','Max','Mean','Median','Std','25P','50P','75P']\n",
    "df = pd.DataFrame()\n",
    "for i in num_cols:\n",
    "    counts = len(bank_df[i])\n",
    "    min_value = min(bank_df[i])\n",
    "    max_value = max(bank_df[i])\n",
    "    mean_value = round(np.mean(bank_df[i]),2)\n",
    "    median_value = round(np.median(bank_df[i]),2)\n",
    "    std_value = round(np.std(bank_df[i]),2)\n",
    "    p_25 = round(np.percentile(bank_df[i],25),2)\n",
    "    p_50 = round(np.percentile(bank_df[i],50),2)\n",
    "    p_75 = round(np.percentile(bank_df[i],75),2)\n",
    "    values_list = [counts,min_value,max_value,mean_value,median_value,std_value,p_25,p_50,p_75]\n",
    "    temp_df = pd.DataFrame(data=values_list,index=indices,columns=[i])\n",
    "    df = pd.concat([df,temp_df],axis=1)\n",
    "df"
   ]
  },
  {
   "cell_type": "code",
   "execution_count": 5,
   "id": "9501bbb6-be94-477e-8228-c9b4ae1a361e",
   "metadata": {},
   "outputs": [
    {
     "name": "stdout",
     "output_type": "stream",
     "text": [
      "Customers having balance less than 25 percentile '69.0' : 1133\n"
     ]
    },
    {
     "data": {
      "text/html": [
       "<div>\n",
       "<style scoped>\n",
       "    .dataframe tbody tr th:only-of-type {\n",
       "        vertical-align: middle;\n",
       "    }\n",
       "\n",
       "    .dataframe tbody tr th {\n",
       "        vertical-align: top;\n",
       "    }\n",
       "\n",
       "    .dataframe thead th {\n",
       "        text-align: right;\n",
       "    }\n",
       "</style>\n",
       "<table border=\"1\" class=\"dataframe\">\n",
       "  <thead>\n",
       "    <tr style=\"text-align: right;\">\n",
       "      <th></th>\n",
       "      <th>age</th>\n",
       "      <th>job</th>\n",
       "      <th>marital</th>\n",
       "      <th>education</th>\n",
       "      <th>default</th>\n",
       "      <th>balance</th>\n",
       "      <th>housing</th>\n",
       "      <th>loan</th>\n",
       "      <th>contact</th>\n",
       "      <th>day</th>\n",
       "      <th>month</th>\n",
       "      <th>duration</th>\n",
       "      <th>campaign</th>\n",
       "      <th>pdays</th>\n",
       "      <th>previous</th>\n",
       "      <th>poutcome</th>\n",
       "      <th>y</th>\n",
       "    </tr>\n",
       "  </thead>\n",
       "  <tbody>\n",
       "    <tr>\n",
       "      <th>4</th>\n",
       "      <td>59</td>\n",
       "      <td>blue-collar</td>\n",
       "      <td>married</td>\n",
       "      <td>secondary</td>\n",
       "      <td>no</td>\n",
       "      <td>0</td>\n",
       "      <td>yes</td>\n",
       "      <td>no</td>\n",
       "      <td>unknown</td>\n",
       "      <td>5</td>\n",
       "      <td>may</td>\n",
       "      <td>226</td>\n",
       "      <td>1</td>\n",
       "      <td>-1</td>\n",
       "      <td>0</td>\n",
       "      <td>unknown</td>\n",
       "      <td>no</td>\n",
       "    </tr>\n",
       "    <tr>\n",
       "      <th>9</th>\n",
       "      <td>43</td>\n",
       "      <td>services</td>\n",
       "      <td>married</td>\n",
       "      <td>primary</td>\n",
       "      <td>no</td>\n",
       "      <td>-88</td>\n",
       "      <td>yes</td>\n",
       "      <td>yes</td>\n",
       "      <td>cellular</td>\n",
       "      <td>17</td>\n",
       "      <td>apr</td>\n",
       "      <td>313</td>\n",
       "      <td>1</td>\n",
       "      <td>147</td>\n",
       "      <td>2</td>\n",
       "      <td>failure</td>\n",
       "      <td>no</td>\n",
       "    </tr>\n",
       "    <tr>\n",
       "      <th>18</th>\n",
       "      <td>25</td>\n",
       "      <td>blue-collar</td>\n",
       "      <td>single</td>\n",
       "      <td>primary</td>\n",
       "      <td>no</td>\n",
       "      <td>-221</td>\n",
       "      <td>yes</td>\n",
       "      <td>no</td>\n",
       "      <td>unknown</td>\n",
       "      <td>23</td>\n",
       "      <td>may</td>\n",
       "      <td>250</td>\n",
       "      <td>1</td>\n",
       "      <td>-1</td>\n",
       "      <td>0</td>\n",
       "      <td>unknown</td>\n",
       "      <td>no</td>\n",
       "    </tr>\n",
       "    <tr>\n",
       "      <th>20</th>\n",
       "      <td>38</td>\n",
       "      <td>management</td>\n",
       "      <td>divorced</td>\n",
       "      <td>unknown</td>\n",
       "      <td>no</td>\n",
       "      <td>0</td>\n",
       "      <td>yes</td>\n",
       "      <td>no</td>\n",
       "      <td>cellular</td>\n",
       "      <td>18</td>\n",
       "      <td>nov</td>\n",
       "      <td>96</td>\n",
       "      <td>2</td>\n",
       "      <td>-1</td>\n",
       "      <td>0</td>\n",
       "      <td>unknown</td>\n",
       "      <td>no</td>\n",
       "    </tr>\n",
       "    <tr>\n",
       "      <th>21</th>\n",
       "      <td>42</td>\n",
       "      <td>management</td>\n",
       "      <td>divorced</td>\n",
       "      <td>tertiary</td>\n",
       "      <td>no</td>\n",
       "      <td>16</td>\n",
       "      <td>no</td>\n",
       "      <td>no</td>\n",
       "      <td>cellular</td>\n",
       "      <td>19</td>\n",
       "      <td>nov</td>\n",
       "      <td>140</td>\n",
       "      <td>3</td>\n",
       "      <td>-1</td>\n",
       "      <td>0</td>\n",
       "      <td>unknown</td>\n",
       "      <td>no</td>\n",
       "    </tr>\n",
       "    <tr>\n",
       "      <th>...</th>\n",
       "      <td>...</td>\n",
       "      <td>...</td>\n",
       "      <td>...</td>\n",
       "      <td>...</td>\n",
       "      <td>...</td>\n",
       "      <td>...</td>\n",
       "      <td>...</td>\n",
       "      <td>...</td>\n",
       "      <td>...</td>\n",
       "      <td>...</td>\n",
       "      <td>...</td>\n",
       "      <td>...</td>\n",
       "      <td>...</td>\n",
       "      <td>...</td>\n",
       "      <td>...</td>\n",
       "      <td>...</td>\n",
       "      <td>...</td>\n",
       "    </tr>\n",
       "    <tr>\n",
       "      <th>4497</th>\n",
       "      <td>31</td>\n",
       "      <td>entrepreneur</td>\n",
       "      <td>single</td>\n",
       "      <td>tertiary</td>\n",
       "      <td>no</td>\n",
       "      <td>38</td>\n",
       "      <td>no</td>\n",
       "      <td>no</td>\n",
       "      <td>cellular</td>\n",
       "      <td>20</td>\n",
       "      <td>nov</td>\n",
       "      <td>185</td>\n",
       "      <td>2</td>\n",
       "      <td>-1</td>\n",
       "      <td>0</td>\n",
       "      <td>unknown</td>\n",
       "      <td>no</td>\n",
       "    </tr>\n",
       "    <tr>\n",
       "      <th>4502</th>\n",
       "      <td>42</td>\n",
       "      <td>services</td>\n",
       "      <td>married</td>\n",
       "      <td>secondary</td>\n",
       "      <td>no</td>\n",
       "      <td>-91</td>\n",
       "      <td>yes</td>\n",
       "      <td>yes</td>\n",
       "      <td>cellular</td>\n",
       "      <td>5</td>\n",
       "      <td>feb</td>\n",
       "      <td>43</td>\n",
       "      <td>1</td>\n",
       "      <td>-1</td>\n",
       "      <td>0</td>\n",
       "      <td>unknown</td>\n",
       "      <td>no</td>\n",
       "    </tr>\n",
       "    <tr>\n",
       "      <th>4506</th>\n",
       "      <td>42</td>\n",
       "      <td>unemployed</td>\n",
       "      <td>divorced</td>\n",
       "      <td>tertiary</td>\n",
       "      <td>no</td>\n",
       "      <td>-166</td>\n",
       "      <td>no</td>\n",
       "      <td>no</td>\n",
       "      <td>cellular</td>\n",
       "      <td>29</td>\n",
       "      <td>aug</td>\n",
       "      <td>85</td>\n",
       "      <td>4</td>\n",
       "      <td>-1</td>\n",
       "      <td>0</td>\n",
       "      <td>unknown</td>\n",
       "      <td>no</td>\n",
       "    </tr>\n",
       "    <tr>\n",
       "      <th>4516</th>\n",
       "      <td>33</td>\n",
       "      <td>services</td>\n",
       "      <td>married</td>\n",
       "      <td>secondary</td>\n",
       "      <td>no</td>\n",
       "      <td>-333</td>\n",
       "      <td>yes</td>\n",
       "      <td>no</td>\n",
       "      <td>cellular</td>\n",
       "      <td>30</td>\n",
       "      <td>jul</td>\n",
       "      <td>329</td>\n",
       "      <td>5</td>\n",
       "      <td>-1</td>\n",
       "      <td>0</td>\n",
       "      <td>unknown</td>\n",
       "      <td>no</td>\n",
       "    </tr>\n",
       "    <tr>\n",
       "      <th>4517</th>\n",
       "      <td>57</td>\n",
       "      <td>self-employed</td>\n",
       "      <td>married</td>\n",
       "      <td>tertiary</td>\n",
       "      <td>yes</td>\n",
       "      <td>-3313</td>\n",
       "      <td>yes</td>\n",
       "      <td>yes</td>\n",
       "      <td>unknown</td>\n",
       "      <td>9</td>\n",
       "      <td>may</td>\n",
       "      <td>153</td>\n",
       "      <td>1</td>\n",
       "      <td>-1</td>\n",
       "      <td>0</td>\n",
       "      <td>unknown</td>\n",
       "      <td>no</td>\n",
       "    </tr>\n",
       "  </tbody>\n",
       "</table>\n",
       "<p>1133 rows × 17 columns</p>\n",
       "</div>"
      ],
      "text/plain": [
       "      age            job   marital  education default  balance housing loan  \\\n",
       "4      59    blue-collar   married  secondary      no        0     yes   no   \n",
       "9      43       services   married    primary      no      -88     yes  yes   \n",
       "18     25    blue-collar    single    primary      no     -221     yes   no   \n",
       "20     38     management  divorced    unknown      no        0     yes   no   \n",
       "21     42     management  divorced   tertiary      no       16      no   no   \n",
       "...   ...            ...       ...        ...     ...      ...     ...  ...   \n",
       "4497   31   entrepreneur    single   tertiary      no       38      no   no   \n",
       "4502   42       services   married  secondary      no      -91     yes  yes   \n",
       "4506   42     unemployed  divorced   tertiary      no     -166      no   no   \n",
       "4516   33       services   married  secondary      no     -333     yes   no   \n",
       "4517   57  self-employed   married   tertiary     yes    -3313     yes  yes   \n",
       "\n",
       "       contact  day month  duration  campaign  pdays  previous poutcome   y  \n",
       "4      unknown    5   may       226         1     -1         0  unknown  no  \n",
       "9     cellular   17   apr       313         1    147         2  failure  no  \n",
       "18     unknown   23   may       250         1     -1         0  unknown  no  \n",
       "20    cellular   18   nov        96         2     -1         0  unknown  no  \n",
       "21    cellular   19   nov       140         3     -1         0  unknown  no  \n",
       "...        ...  ...   ...       ...       ...    ...       ...      ...  ..  \n",
       "4497  cellular   20   nov       185         2     -1         0  unknown  no  \n",
       "4502  cellular    5   feb        43         1     -1         0  unknown  no  \n",
       "4506  cellular   29   aug        85         4     -1         0  unknown  no  \n",
       "4516  cellular   30   jul       329         5     -1         0  unknown  no  \n",
       "4517   unknown    9   may       153         1     -1         0  unknown  no  \n",
       "\n",
       "[1133 rows x 17 columns]"
      ]
     },
     "execution_count": 5,
     "metadata": {},
     "output_type": "execute_result"
    }
   ],
   "source": [
    "# Get the data who have balance less than 25percentile\n",
    "bal_data = bank_df['balance']\n",
    "bal_25p = np.percentile(bal_data,25)\n",
    "cond = bal_data<=bal_25p\n",
    "print(f\"Customers having balance less than 25 percentile '{bal_25p}' : {len(bank_df[cond])}\")\n",
    "bank_df[cond]"
   ]
  },
  {
   "cell_type": "code",
   "execution_count": 8,
   "id": "2d157f78-3ca6-48a6-a3b1-595d9992bf24",
   "metadata": {},
   "outputs": [
    {
     "name": "stdout",
     "output_type": "stream",
     "text": [
      "1 standard deviation of balance: 4143\n"
     ]
    },
    {
     "data": {
      "text/html": [
       "<div>\n",
       "<style scoped>\n",
       "    .dataframe tbody tr th:only-of-type {\n",
       "        vertical-align: middle;\n",
       "    }\n",
       "\n",
       "    .dataframe tbody tr th {\n",
       "        vertical-align: top;\n",
       "    }\n",
       "\n",
       "    .dataframe thead th {\n",
       "        text-align: right;\n",
       "    }\n",
       "</style>\n",
       "<table border=\"1\" class=\"dataframe\">\n",
       "  <thead>\n",
       "    <tr style=\"text-align: right;\">\n",
       "      <th></th>\n",
       "      <th>age</th>\n",
       "      <th>job</th>\n",
       "      <th>marital</th>\n",
       "      <th>education</th>\n",
       "      <th>default</th>\n",
       "      <th>balance</th>\n",
       "      <th>housing</th>\n",
       "      <th>loan</th>\n",
       "      <th>contact</th>\n",
       "      <th>day</th>\n",
       "      <th>month</th>\n",
       "      <th>duration</th>\n",
       "      <th>campaign</th>\n",
       "      <th>pdays</th>\n",
       "      <th>previous</th>\n",
       "      <th>poutcome</th>\n",
       "      <th>y</th>\n",
       "    </tr>\n",
       "  </thead>\n",
       "  <tbody>\n",
       "    <tr>\n",
       "      <th>0</th>\n",
       "      <td>30</td>\n",
       "      <td>unemployed</td>\n",
       "      <td>married</td>\n",
       "      <td>primary</td>\n",
       "      <td>no</td>\n",
       "      <td>1787</td>\n",
       "      <td>no</td>\n",
       "      <td>no</td>\n",
       "      <td>cellular</td>\n",
       "      <td>19</td>\n",
       "      <td>oct</td>\n",
       "      <td>79</td>\n",
       "      <td>1</td>\n",
       "      <td>-1</td>\n",
       "      <td>0</td>\n",
       "      <td>unknown</td>\n",
       "      <td>no</td>\n",
       "    </tr>\n",
       "    <tr>\n",
       "      <th>2</th>\n",
       "      <td>35</td>\n",
       "      <td>management</td>\n",
       "      <td>single</td>\n",
       "      <td>tertiary</td>\n",
       "      <td>no</td>\n",
       "      <td>1350</td>\n",
       "      <td>yes</td>\n",
       "      <td>no</td>\n",
       "      <td>cellular</td>\n",
       "      <td>16</td>\n",
       "      <td>apr</td>\n",
       "      <td>185</td>\n",
       "      <td>1</td>\n",
       "      <td>330</td>\n",
       "      <td>1</td>\n",
       "      <td>failure</td>\n",
       "      <td>no</td>\n",
       "    </tr>\n",
       "    <tr>\n",
       "      <th>3</th>\n",
       "      <td>30</td>\n",
       "      <td>management</td>\n",
       "      <td>married</td>\n",
       "      <td>tertiary</td>\n",
       "      <td>no</td>\n",
       "      <td>1476</td>\n",
       "      <td>yes</td>\n",
       "      <td>yes</td>\n",
       "      <td>unknown</td>\n",
       "      <td>3</td>\n",
       "      <td>jun</td>\n",
       "      <td>199</td>\n",
       "      <td>4</td>\n",
       "      <td>-1</td>\n",
       "      <td>0</td>\n",
       "      <td>unknown</td>\n",
       "      <td>no</td>\n",
       "    </tr>\n",
       "    <tr>\n",
       "      <th>4</th>\n",
       "      <td>59</td>\n",
       "      <td>blue-collar</td>\n",
       "      <td>married</td>\n",
       "      <td>secondary</td>\n",
       "      <td>no</td>\n",
       "      <td>0</td>\n",
       "      <td>yes</td>\n",
       "      <td>no</td>\n",
       "      <td>unknown</td>\n",
       "      <td>5</td>\n",
       "      <td>may</td>\n",
       "      <td>226</td>\n",
       "      <td>1</td>\n",
       "      <td>-1</td>\n",
       "      <td>0</td>\n",
       "      <td>unknown</td>\n",
       "      <td>no</td>\n",
       "    </tr>\n",
       "    <tr>\n",
       "      <th>5</th>\n",
       "      <td>35</td>\n",
       "      <td>management</td>\n",
       "      <td>single</td>\n",
       "      <td>tertiary</td>\n",
       "      <td>no</td>\n",
       "      <td>747</td>\n",
       "      <td>no</td>\n",
       "      <td>no</td>\n",
       "      <td>cellular</td>\n",
       "      <td>23</td>\n",
       "      <td>feb</td>\n",
       "      <td>141</td>\n",
       "      <td>2</td>\n",
       "      <td>176</td>\n",
       "      <td>3</td>\n",
       "      <td>failure</td>\n",
       "      <td>no</td>\n",
       "    </tr>\n",
       "    <tr>\n",
       "      <th>...</th>\n",
       "      <td>...</td>\n",
       "      <td>...</td>\n",
       "      <td>...</td>\n",
       "      <td>...</td>\n",
       "      <td>...</td>\n",
       "      <td>...</td>\n",
       "      <td>...</td>\n",
       "      <td>...</td>\n",
       "      <td>...</td>\n",
       "      <td>...</td>\n",
       "      <td>...</td>\n",
       "      <td>...</td>\n",
       "      <td>...</td>\n",
       "      <td>...</td>\n",
       "      <td>...</td>\n",
       "      <td>...</td>\n",
       "      <td>...</td>\n",
       "    </tr>\n",
       "    <tr>\n",
       "      <th>4515</th>\n",
       "      <td>32</td>\n",
       "      <td>services</td>\n",
       "      <td>single</td>\n",
       "      <td>secondary</td>\n",
       "      <td>no</td>\n",
       "      <td>473</td>\n",
       "      <td>yes</td>\n",
       "      <td>no</td>\n",
       "      <td>cellular</td>\n",
       "      <td>7</td>\n",
       "      <td>jul</td>\n",
       "      <td>624</td>\n",
       "      <td>5</td>\n",
       "      <td>-1</td>\n",
       "      <td>0</td>\n",
       "      <td>unknown</td>\n",
       "      <td>no</td>\n",
       "    </tr>\n",
       "    <tr>\n",
       "      <th>4516</th>\n",
       "      <td>33</td>\n",
       "      <td>services</td>\n",
       "      <td>married</td>\n",
       "      <td>secondary</td>\n",
       "      <td>no</td>\n",
       "      <td>-333</td>\n",
       "      <td>yes</td>\n",
       "      <td>no</td>\n",
       "      <td>cellular</td>\n",
       "      <td>30</td>\n",
       "      <td>jul</td>\n",
       "      <td>329</td>\n",
       "      <td>5</td>\n",
       "      <td>-1</td>\n",
       "      <td>0</td>\n",
       "      <td>unknown</td>\n",
       "      <td>no</td>\n",
       "    </tr>\n",
       "    <tr>\n",
       "      <th>4518</th>\n",
       "      <td>57</td>\n",
       "      <td>technician</td>\n",
       "      <td>married</td>\n",
       "      <td>secondary</td>\n",
       "      <td>no</td>\n",
       "      <td>295</td>\n",
       "      <td>no</td>\n",
       "      <td>no</td>\n",
       "      <td>cellular</td>\n",
       "      <td>19</td>\n",
       "      <td>aug</td>\n",
       "      <td>151</td>\n",
       "      <td>11</td>\n",
       "      <td>-1</td>\n",
       "      <td>0</td>\n",
       "      <td>unknown</td>\n",
       "      <td>no</td>\n",
       "    </tr>\n",
       "    <tr>\n",
       "      <th>4519</th>\n",
       "      <td>28</td>\n",
       "      <td>blue-collar</td>\n",
       "      <td>married</td>\n",
       "      <td>secondary</td>\n",
       "      <td>no</td>\n",
       "      <td>1137</td>\n",
       "      <td>no</td>\n",
       "      <td>no</td>\n",
       "      <td>cellular</td>\n",
       "      <td>6</td>\n",
       "      <td>feb</td>\n",
       "      <td>129</td>\n",
       "      <td>4</td>\n",
       "      <td>211</td>\n",
       "      <td>3</td>\n",
       "      <td>other</td>\n",
       "      <td>no</td>\n",
       "    </tr>\n",
       "    <tr>\n",
       "      <th>4520</th>\n",
       "      <td>44</td>\n",
       "      <td>entrepreneur</td>\n",
       "      <td>single</td>\n",
       "      <td>tertiary</td>\n",
       "      <td>no</td>\n",
       "      <td>1136</td>\n",
       "      <td>yes</td>\n",
       "      <td>yes</td>\n",
       "      <td>cellular</td>\n",
       "      <td>3</td>\n",
       "      <td>apr</td>\n",
       "      <td>345</td>\n",
       "      <td>2</td>\n",
       "      <td>249</td>\n",
       "      <td>7</td>\n",
       "      <td>other</td>\n",
       "      <td>no</td>\n",
       "    </tr>\n",
       "  </tbody>\n",
       "</table>\n",
       "<p>4143 rows × 17 columns</p>\n",
       "</div>"
      ],
      "text/plain": [
       "      age           job  marital  education default  balance housing loan  \\\n",
       "0      30    unemployed  married    primary      no     1787      no   no   \n",
       "2      35    management   single   tertiary      no     1350     yes   no   \n",
       "3      30    management  married   tertiary      no     1476     yes  yes   \n",
       "4      59   blue-collar  married  secondary      no        0     yes   no   \n",
       "5      35    management   single   tertiary      no      747      no   no   \n",
       "...   ...           ...      ...        ...     ...      ...     ...  ...   \n",
       "4515   32      services   single  secondary      no      473     yes   no   \n",
       "4516   33      services  married  secondary      no     -333     yes   no   \n",
       "4518   57    technician  married  secondary      no      295      no   no   \n",
       "4519   28   blue-collar  married  secondary      no     1137      no   no   \n",
       "4520   44  entrepreneur   single   tertiary      no     1136     yes  yes   \n",
       "\n",
       "       contact  day month  duration  campaign  pdays  previous poutcome   y  \n",
       "0     cellular   19   oct        79         1     -1         0  unknown  no  \n",
       "2     cellular   16   apr       185         1    330         1  failure  no  \n",
       "3      unknown    3   jun       199         4     -1         0  unknown  no  \n",
       "4      unknown    5   may       226         1     -1         0  unknown  no  \n",
       "5     cellular   23   feb       141         2    176         3  failure  no  \n",
       "...        ...  ...   ...       ...       ...    ...       ...      ...  ..  \n",
       "4515  cellular    7   jul       624         5     -1         0  unknown  no  \n",
       "4516  cellular   30   jul       329         5     -1         0  unknown  no  \n",
       "4518  cellular   19   aug       151        11     -1         0  unknown  no  \n",
       "4519  cellular    6   feb       129         4    211         3    other  no  \n",
       "4520  cellular    3   apr       345         2    249         7    other  no  \n",
       "\n",
       "[4143 rows x 17 columns]"
      ]
     },
     "execution_count": 8,
     "metadata": {},
     "output_type": "execute_result"
    }
   ],
   "source": [
    "# Get the 1 standard deviation of balance\n",
    "lb = mean_bal - (1*std_bal)\n",
    "ub = mean_bal + (1*std_bal) \n",
    "cond1 = bank_df['balance']>lb\n",
    "cond2 = bank_df['balance']<ub\n",
    "cond3 = cond1&cond2\n",
    "print(f\"1 standard deviation of balance: {len(bank_df[cond3])}\")\n",
    "bank_df[cond3]"
   ]
  },
  {
   "cell_type": "code",
   "execution_count": 27,
   "id": "ac4f796b-58da-4295-a109-1ed696f7313f",
   "metadata": {},
   "outputs": [
    {
     "data": {
      "text/plain": [
       "3074.28"
      ]
     },
     "execution_count": 27,
     "metadata": {},
     "output_type": "execute_result"
    }
   ],
   "source": [
    "# Get the 1 standard deviation of balance using empirical rule\n",
    "len(bank_df['balance'])*68/100"
   ]
  },
  {
   "cell_type": "markdown",
   "id": "6d6aba4f-beb9-4c3b-a5f6-7426d913e94e",
   "metadata": {},
   "source": [
    "#### Histogram\n"
   ]
  },
  {
   "cell_type": "code",
   "execution_count": 18,
   "id": "bc1f12d7-4302-499f-a820-327ee16d699c",
   "metadata": {},
   "outputs": [
    {
     "data": {
      "image/png": "[encoded data removed]",
      "text/plain": [
       "<Figure size 800x200 with 1 Axes>"
      ]
     },
     "metadata": {},
     "output_type": "display_data"
    }
   ],
   "source": [
    "bal_df = bank_df['balance']\n",
    "plt.figure(figsize=(8,2))\n",
    "plt.hist(bal_df,bins=60)\n",
    "plt.show()"
   ]
  },
  {
   "cell_type": "code",
   "execution_count": 33,
   "id": "9ed5e213-200f-45ab-837a-02f9793d2ab5",
   "metadata": {},
   "outputs": [
    {
     "data": {
      "image/png": "[encoded data removed]",
      "text/plain": [
       "<Figure size 800x200 with 1 Axes>"
      ]
     },
     "metadata": {},
     "output_type": "display_data"
    }
   ],
   "source": [
    "bal_df = bank_df['balance']\n",
    "plt.figure(figsize=(8,2))\n",
    "count,bins,x = plt.hist(bal_df,bins=40)\n",
    "plt.show()"
   ]
  },
  {
   "cell_type": "code",
   "execution_count": 26,
   "id": "25bfeb52-a234-4f5e-96d0-3bfe7d1d325f",
   "metadata": {},
   "outputs": [
    {
     "data": {
      "text/plain": [
       "array([4.000e+00, 2.168e+03, 1.540e+03, 3.990e+02, 1.760e+02, 8.300e+01,\n",
       "       5.600e+01, 2.500e+01, 1.600e+01, 1.600e+01, 1.200e+01, 3.000e+00,\n",
       "       4.000e+00, 7.000e+00, 2.000e+00, 4.000e+00, 4.000e+00, 0.000e+00,\n",
       "       0.000e+00, 0.000e+00, 0.000e+00, 0.000e+00, 0.000e+00, 0.000e+00,\n",
       "       1.000e+00, 0.000e+00, 0.000e+00, 0.000e+00, 0.000e+00, 0.000e+00,\n",
       "       0.000e+00, 0.000e+00, 0.000e+00, 0.000e+00, 0.000e+00, 0.000e+00,\n",
       "       0.000e+00, 0.000e+00, 0.000e+00, 1.000e+00])"
      ]
     },
     "execution_count": 26,
     "metadata": {},
     "output_type": "execute_result"
    }
   ],
   "source": [
    "count"
   ]
  },
  {
   "cell_type": "code",
   "execution_count": 27,
   "id": "7fa7b7f3-a15d-4be2-b842-db7aeeeeba01",
   "metadata": {},
   "outputs": [
    {
     "data": {
      "text/plain": [
       "array([-3313.   , -1450.475,   412.05 ,  2274.575,  4137.1  ,  5999.625,\n",
       "        7862.15 ,  9724.675, 11587.2  , 13449.725, 15312.25 , 17174.775,\n",
       "       19037.3  , 20899.825, 22762.35 , 24624.875, 26487.4  , 28349.925,\n",
       "       30212.45 , 32074.975, 33937.5  , 35800.025, 37662.55 , 39525.075,\n",
       "       41387.6  , 43250.125, 45112.65 , 46975.175, 48837.7  , 50700.225,\n",
       "       52562.75 , 54425.275, 56287.8  , 58150.325, 60012.85 , 61875.375,\n",
       "       63737.9  , 65600.425, 67462.95 , 69325.475, 71188.   ])"
      ]
     },
     "execution_count": 27,
     "metadata": {},
     "output_type": "execute_result"
    }
   ],
   "source": [
    "bins"
   ]
  },
  {
   "cell_type": "code",
   "execution_count": 34,
   "id": "34914847-5251-4e95-9892-9c18a1436458",
   "metadata": {},
   "outputs": [
    {
     "name": "stdout",
     "output_type": "stream",
     "text": [
      "4\n"
     ]
    }
   ],
   "source": [
    "lb = -33130\n",
    "ub = -1450.475\n",
    "\n",
    "cond1 = bank_df['balance']>=lb\n",
    "cond2 = bank_df['balance']<=ub\n",
    "cond3 = cond1&cond2\n",
    "print(len(bank_df[cond3]))"
   ]
  },
  {
   "cell_type": "code",
   "execution_count": 35,
   "id": "995ed8be-ac18-4aad-b07f-b4dda23a193c",
   "metadata": {},
   "outputs": [
    {
     "data": {
      "text/plain": [
       "4.0"
      ]
     },
     "execution_count": 35,
     "metadata": {},
     "output_type": "execute_result"
    }
   ],
   "source": [
    "count[0]"
   ]
  },
  {
   "cell_type": "code",
   "execution_count": 35,
   "id": "92c2566b-f449-4709-9fe5-0c555acdaf05",
   "metadata": {},
   "outputs": [
    {
     "data": {
      "image/png": "[encoded data removed]",
      "text/plain": [
       "<Figure size 640x480 with 1 Axes>"
      ]
     },
     "metadata": {},
     "output_type": "display_data"
    }
   ],
   "source": [
    "bal_df = bank_df['balance']\n",
    "count,bins,x = plt.hist(bal_df,bins=40)\n",
    "cols = ['lb','ub','Count']\n",
    "bins_data = []\n",
    "for i in range(len(count)):\n",
    "    lb = bins[i]\n",
    "    ub = bins[i+1]\n",
    "    bins_data.append([lb,ub,count[i]])\n",
    "df = pd.DataFrame(bins_data,columns=cols)\n",
    "# print(df)\n",
    "plt.savefig(\"BalanceHistogram.png\")"
   ]
  },
  {
   "cell_type": "code",
   "execution_count": 30,
   "id": "cee8b70a-0991-42a4-97b4-3c6456a23b75",
   "metadata": {},
   "outputs": [
    {
     "data": {
      "image/png": "[encoded data removed]",
      "text/plain": [
       "<Figure size 500x200 with 1 Axes>"
      ]
     },
     "metadata": {},
     "output_type": "display_data"
    },
    {
     "data": {
      "image/png": "[encoded data removed]",
      "text/plain": [
       "<Figure size 640x480 with 1 Axes>"
      ]
     },
     "metadata": {},
     "output_type": "display_data"
    },
    {
     "data": {
      "image/png": "[encoded data removed]",
      "text/plain": [
       "<Figure size 640x480 with 1 Axes>"
      ]
     },
     "metadata": {},
     "output_type": "display_data"
    },
    {
     "data": {
      "image/png": "[encoded data removed]",
      "text/plain": [
       "<Figure size 640x480 with 1 Axes>"
      ]
     },
     "metadata": {},
     "output_type": "display_data"
    },
    {
     "data": {
      "image/png": "[encoded data removed]",
      "text/plain": [
       "<Figure size 640x480 with 1 Axes>"
      ]
     },
     "metadata": {},
     "output_type": "display_data"
    },
    {
     "data": {
      "image/png": "[encoded data removed]",
      "text/plain": [
       "<Figure size 640x480 with 1 Axes>"
      ]
     },
     "metadata": {},
     "output_type": "display_data"
    },
    {
     "data": {
      "image/png": "[encoded data removed]",
      "text/plain": [
       "<Figure size 640x480 with 1 Axes>"
      ]
     },
     "metadata": {},
     "output_type": "display_data"
    }
   ],
   "source": [
    "# Draw and save histogram for all Numerical columns\n",
    "num_cols = bank_df.select_dtypes(exclude='object').columns\n",
    "plt.figure(figsize=(5,2))\n",
    "for i in num_cols:\n",
    "    column_df = bank_df[i]\n",
    "    plt.hist(column_df,bins=60)\n",
    "    plt.title(f\"{i} Histogram\")\n",
    "    plt.savefig(f\"{i}_Hist.png\")\n",
    "    plt.show()"
   ]
  },
  {
   "cell_type": "code",
   "execution_count": 45,
   "id": "fb937408-a945-49ad-8269-6c64c925d329",
   "metadata": {},
   "outputs": [
    {
     "data": {
      "image/png": "[encoded data removed]",
      "text/plain": [
       "<Figure size 500x200 with 1 Axes>"
      ]
     },
     "metadata": {},
     "output_type": "display_data"
    },
    {
     "data": {
      "image/png": "[encoded data removed]",
      "text/plain": [
       "<Figure size 640x480 with 1 Axes>"
      ]
     },
     "metadata": {},
     "output_type": "display_data"
    },
    {
     "data": {
      "image/png": "[encoded data removed]",
      "text/plain": [
       "<Figure size 640x480 with 1 Axes>"
      ]
     },
     "metadata": {},
     "output_type": "display_data"
    },
    {
     "data": {
      "image/png": "[encoded data removed]",
      "text/plain": [
       "<Figure size 640x480 with 1 Axes>"
      ]
     },
     "metadata": {},
     "output_type": "display_data"
    },
    {
     "data": {
      "image/png": "[encoded data removed]",
      "text/plain": [
       "<Figure size 640x480 with 1 Axes>"
      ]
     },
     "metadata": {},
     "output_type": "display_data"
    },
    {
     "data": {
      "image/png": "[encoded data removed]",
      "text/plain": [
       "<Figure size 640x480 with 1 Axes>"
      ]
     },
     "metadata": {},
     "output_type": "display_data"
    },
    {
     "data": {
      "image/png": "[encoded data removed]",
      "text/plain": [
       "<Figure size 640x480 with 1 Axes>"
      ]
     },
     "metadata": {},
     "output_type": "display_data"
    }
   ],
   "source": [
    "# Draw histograms for all Numerical columns with lb,ub,count\n",
    "num_cols = bank_df.select_dtypes(exclude='object').columns\n",
    "cols = ['lb','ub','Count']\n",
    "plt.figure(figsize=(5,2))\n",
    "for c in num_cols:\n",
    "    bins_data = []\n",
    "    column_df = bank_df[c]\n",
    "    cnt,bins,x = plt.hist(column_df,bins=60)\n",
    "    for i in range(len(cnt)):\n",
    "        lb = bins[i]   \n",
    "        ub = bins[i+1]\n",
    "        count = cnt[i]\n",
    "        bins_data.append([lb,ub,count])\n",
    "    df = pd.DataFrame(bins_data,columns=cols)\n",
    "    # print(df)\n",
    "    plt.hist(df,bins=30)\n",
    "    plt.legend(cols)\n",
    "    plt.title(f\"{c} HIstogram\")\n",
    "    plt.show()"
   ]
  },
  {
   "cell_type": "markdown",
   "id": "28797d75-a9a9-4af3-a285-e3cb6c31370a",
   "metadata": {},
   "source": [
    "#### Draw the Boxplot using matplotlib"
   ]
  },
  {
   "cell_type": "code",
   "execution_count": 60,
   "id": "ede6840d-289f-4d71-b555-b7a51e8b49d3",
   "metadata": {},
   "outputs": [
    {
     "data": {
      "image/png": "[encoded data removed]",
      "text/plain": [
       "<Figure size 1000x400 with 1 Axes>"
      ]
     },
     "metadata": {},
     "output_type": "display_data"
    }
   ],
   "source": [
    "plt.figure(figsize=(10,4))\n",
    "plt.boxplot(bank_df['duration'],vert=False)\n",
    "plt.show()"
   ]
  },
  {
   "cell_type": "markdown",
   "id": "663ae5c9-fdf6-4b2b-9fff-a21f8b053481",
   "metadata": {},
   "source": [
    "#### Draw the Boxplot using Seaborn"
   ]
  },
  {
   "cell_type": "code",
   "execution_count": 55,
   "id": "1a48a168-31d3-4aa2-8e52-088e9ddb49d8",
   "metadata": {},
   "outputs": [
    {
     "data": {
      "image/png": "[encoded data removed]",
      "text/plain": [
       "<Figure size 1000x400 with 1 Axes>"
      ]
     },
     "metadata": {},
     "output_type": "display_data"
    }
   ],
   "source": [
    "import pandas as pd\n",
    "import numpy as np\n",
    "import matplotlib.pyplot as plt\n",
    "import seaborn as sns\n",
    "bank_df = pd.read_csv(f\"bank.csv\",sep=';')\n",
    "num_cols = bank_df.select_dtypes(exclude='object').columns\n",
    "plt.figure(figsize=(10,4))\n",
    "sns.boxplot(data=bank_df['duration'],orient='h')\n",
    "plt.show()"
   ]
  },
  {
   "cell_type": "code",
   "execution_count": 74,
   "id": "7b06672e-7af8-401c-b7c5-664d77ee223d",
   "metadata": {},
   "outputs": [
    {
     "data": {
      "image/png": "[encoded data removed]",
      "text/plain": [
       "<Figure size 1600x400 with 2 Axes>"
      ]
     },
     "metadata": {},
     "output_type": "display_data"
    }
   ],
   "source": [
    "# Plot the distribution plot (Histogram) and Boxplot side by side\n",
    "plt.figure(figsize=(16,4))\n",
    "duration_df = bank_df['duration']\n",
    "plt.suptitle(\"Duration\")\n",
    "plt.subplot(1,2,1)\n",
    "plt.hist(duration_df)\n",
    "plt.title(\"Histogram/Distribution Plot\")\n",
    "plt.subplot(1,2,2)\n",
    "plt.boxplot(duration_df,vert=False)\n",
    "plt.title(\"Boxplot\")\n",
    "plt.show()"
   ]
  },
  {
   "cell_type": "code",
   "execution_count": 88,
   "id": "7ade1541-2dc6-43ad-b8f4-4a02de7520e6",
   "metadata": {},
   "outputs": [
    {
     "name": "stdout",
     "output_type": "stream",
     "text": [
      "Outliers = -233.5 and 666.5\n",
      "==============================================Duration with Outliers data===============================================\n",
      "30       897\n",
      "33       958\n",
      "38       765\n",
      "50      1018\n",
      "51      1740\n",
      "        ... \n",
      "4498     676\n",
      "4503     816\n",
      "4504     951\n",
      "4505    1234\n",
      "4511    1263\n",
      "Name: duration, Length: 330, dtype: int64\n",
      "=========================================Bank data with Duration Outliers data==========================================\n",
      "      age            job   marital  education default  balance housing loan  \\\n",
      "30     68        retired  divorced  secondary      no     4189      no   no   \n",
      "33     32     management    single   tertiary      no     2536     yes   no   \n",
      "38     33     management   married  secondary      no     3935     yes   no   \n",
      "50     45    blue-collar  divorced    primary      no      844      no   no   \n",
      "51     37     technician    single  secondary      no      228     yes   no   \n",
      "...   ...            ...       ...        ...     ...      ...     ...  ...   \n",
      "4498   31     management   married   tertiary      no     1183     yes   no   \n",
      "4503   60  self-employed   married    primary      no      362      no  yes   \n",
      "4504   42    blue-collar    single  secondary      no     1080     yes  yes   \n",
      "4505   32         admin.    single  secondary      no      620     yes   no   \n",
      "4511   46    blue-collar   married  secondary      no      668     yes   no   \n",
      "\n",
      "        contact  day month  duration  campaign  pdays  previous poutcome    y  \n",
      "30    telephone   14   jul       897         2     -1         0  unknown  yes  \n",
      "33     cellular   26   aug       958         6     -1         0  unknown  yes  \n",
      "38     cellular    6   may       765         1    342         2  failure  yes  \n",
      "50      unknown    5   jun      1018         3     -1         0  unknown  yes  \n",
      "51     cellular   20   aug      1740         2     -1         0  unknown   no  \n",
      "...         ...  ...   ...       ...       ...    ...       ...      ...  ...  \n",
      "4498    unknown   27   may       676         6     -1         0  unknown   no  \n",
      "4503   cellular   29   jul       816         6     -1         0  unknown  yes  \n",
      "4504   cellular   13   may       951         3    370         4  failure  yes  \n",
      "4505    unknown   26   may      1234         3     -1         0  unknown  yes  \n",
      "4511    unknown   15   may      1263         2     -1         0  unknown  yes  \n",
      "\n",
      "[330 rows x 17 columns]\n"
     ]
    },
    {
     "data": {
      "image/png": "[encoded data removed]",
      "text/plain": [
       "<Figure size 640x480 with 2 Axes>"
      ]
     },
     "metadata": {},
     "output_type": "display_data"
    }
   ],
   "source": [
    "# Find the outliers in duration data\n",
    "duration_df = bank_df['duration']\n",
    "q1 = np.percentile(duration_df,25)\n",
    "q3 = np.percentile(duration_df,75)\n",
    "iqr = q3-q1\n",
    "lb = q1-1.5*iqr\n",
    "ub = q3+1.5*iqr\n",
    "print(f\"Outliers = {lb} and {ub}\")\n",
    "cond1 = duration_df<lb\n",
    "cond2 = duration_df>ub\n",
    "cond3 = cond1|cond2\n",
    "duration_outliers = duration_df[cond3]\n",
    "print(f\"Duration with Outliers data\".center(120,'='))\n",
    "print(duration_outliers)\n",
    "print(f\"Bank data with Duration Outliers data\".center(120,'='))\n",
    "print(bank_df[cond3])\n",
    "\n",
    "plt.subplot(1,2,1).hist(duration_df)\n",
    "plt.title(\"Duration with all data\")\n",
    "plt.subplot(1,2,2).hist(duration_outliers)\n",
    "plt.title(\"Duration with Outliers\")\n",
    "plt.show()"
   ]
  },
  {
   "cell_type": "code",
   "execution_count": 161,
   "id": "08e24941-e150-4be6-8d1f-81fc30302cb6",
   "metadata": {},
   "outputs": [
    {
     "data": {
      "image/png": "[encoded data removed]",
      "text/plain": [
       "<Figure size 640x480 with 6 Axes>"
      ]
     },
     "metadata": {},
     "output_type": "display_data"
    }
   ],
   "source": [
    "# Get the non-outliers DataFrame from age column. And draw the boxplot\n",
    "age_df = bank_df['age']\n",
    "q1 = np.percentile(age_df,25)\n",
    "q3 = np.percentile(age_df,75)\n",
    "iqr = q3-q1\n",
    "lb = q1-1.5*iqr\n",
    "ub = q3+1.5*iqr\n",
    "cond1 = age_df>lb\n",
    "cond2 = age_df<ub\n",
    "cond3 = cond1&cond2\n",
    "# print(f\"age column with Non-outliers data\".center(120,'='))\n",
    "# print(age_df[cond3])\n",
    "# print(f\"bank data with Non-outliers data of age\".center(120,'='))\n",
    "# print(bank_df[cond3])\n",
    "plt.figure(figsize=(15,4))\n",
    "plt.subplot(1,2,1).hist(age_df[cond3])\n",
    "plt.title(f\"Age data with Non-outliers\")\n",
    "plt.subplot(1,2,2).hist(bank_df['age'])\n",
    "plt.title(f\"Age with all values\")\n",
    "plt.subplots_adjust(hspace=0.1,wspace=1.5)\n",
    "\n",
    "plt.subplot(2,2,3).boxplot(age_df[cond3],vert=False)\n",
    "plt.subplot(2,2,4).boxplot(bank_df['age'],vert=False)\n",
    "\n",
    "plt.show()"
   ]
  },
  {
   "cell_type": "code",
   "execution_count": null,
   "id": "0658e93d-0d76-4ce2-a419-31d37f3e9256",
   "metadata": {},
   "outputs": [],
   "source": []
  }
 ],
 "metadata": {
  "kernelspec": {
   "display_name": "Python 3 (ipykernel)",
   "language": "python",
   "name": "python3"
  },
  "language_info": {
   "codemirror_mode": {
    "name": "ipython",
    "version": 3
   },
   "file_extension": ".py",
   "mimetype": "text/x-python",
   "name": "python",
   "nbconvert_exporter": "python",
   "pygments_lexer": "ipython3",
   "version": "3.11.7"
  }
 },
 "nbformat": 4,
 "nbformat_minor": 5
}
