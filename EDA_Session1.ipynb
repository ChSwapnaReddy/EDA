{
 "cells": [
  {
   "cell_type": "markdown",
   "id": "3695a955-4712-4b98-bc67-17ecb8bb7a4e",
   "metadata": {},
   "source": [
    "=================== EDA (Exploratory Data Analysis) ==========================\n",
    "1. Pandas             : Dataframe or data applications\n",
    "2. numpy              : Numerical Python for math operation\n",
    "3. matplotlib         : For plot graphs\n",
    "4. Seaborn            : For plot graphs\n",
    "5. Bokhe              : For Plots\n",
    "6. plotly             : For Plots\n",
    "\n",
    "============= Machine Learning ====================\n",
    "\n",
    "7. scikit learn (Sklearn)   :ML models\n",
    "8. stats                    : Statistical models\n",
    "\n",
    "============= Data retrieval from SQL scrapping ====================\n",
    "\n",
    "9. sqlite            : To connect with database\n",
    "10. Beautiful Soup   : scrap the data from website\n",
    "11. websocket        : scrapping\n",
    "\n",
    "============= Deep Learning (DL) / CV (Computer Vision) ====================\n",
    "\n",
    "12. Tensorflow      : Google. \n",
    "13. Keras           : DL model \n",
    "14. OpenCV          : For Image operations\n",
    "15. pillow (PIL)    : For Image operations\n",
    "16. pytorch         : Facebook.\n",
    "17. Pretrained model :\n",
    "   VGG16\n",
    "   Mobilenet\n",
    "   RESNET\n",
    "   RCNN\n",
    "   MASKRCNN\n",
    "   FASTERCNN\n",
    "   YOLO\n",
    "\n",
    "============= Natural Language Process ====================\n",
    "\n",
    "18. NLTK            : Natural Language Tool Kit\n",
    "19. Scipy           : To solve MAthematical equations and algorithms\n",
    "20. Word2Vec        : How words will convert to vector. \n",
    "21. Glove           : an unsupervised learning algorithm for obtaining vector representations for words\n",
    "22. WordCLoud       : visualization technique commonly used to display tags or keywords from websites\n",
    "\n",
    "===================== Hugging Face ============================\n",
    "\n",
    "23. Transformers    : BERT (Bidirectional Encoder Representations from Transformers)\n",
    "\n",
    "===================== GenAI models ============================\n",
    "\n",
    "24. OpenAI + Microsoft  : GPT models\n",
    "25. Google              : Gemini\n",
    "26. Amazon              : Q\n",
    "27. Meta                : LLaMA (Large Language Model Meta AI)\n",
    "28. Apple               : ReALM (Reference Resolution As Language Modeling)\n",
    "\n",
    "===================== LANGCHAIN ============================\n",
    "\n",
    "29. LangChain is a framework to build with LLMs by chaining interoperable components.\n",
    "\n",
    "===================== Deployments/ Applications ============================\n",
    "\n",
    "30. Flask\n",
    "31. Streamlit\n",
    "32. Dango\n",
    "\n",
    "===================== MLOps ============================\n",
    "\n",
    "33. MLFlow\n",
    "34. Kubeflow\n",
    "35. Azure AI services  : Azure AI packages\n",
    "36. GCP                : GCP PAckages\n"
   ]
  },
  {
   "cell_type": "markdown",
   "id": "33048bff-8270-47fd-ba05-f9703573bfaa",
   "metadata": {},
   "source": [
    "### Step 1: ###\n",
    "\n",
    "### Create a DataFrame ###\n",
    "\n",
    "**** We will create a dataframe using list\n",
    "\n",
    "**** We will create a dataframe using dictionary"
   ]
  },
  {
   "cell_type": "code",
   "execution_count": 1,
   "id": "e2e5196c-18ed-4528-8bb2-4acf0cc07e60",
   "metadata": {},
   "outputs": [],
   "source": [
    "import pandas as pd"
   ]
  },
  {
   "cell_type": "code",
   "execution_count": 2,
   "id": "8ef4c920-0d24-4ba6-85ad-27820a7ea44a",
   "metadata": {},
   "outputs": [
    {
     "data": {
      "text/html": [
       "<div>\n",
       "<style scoped>\n",
       "    .dataframe tbody tr th:only-of-type {\n",
       "        vertical-align: middle;\n",
       "    }\n",
       "\n",
       "    .dataframe tbody tr th {\n",
       "        vertical-align: top;\n",
       "    }\n",
       "\n",
       "    .dataframe thead th {\n",
       "        text-align: right;\n",
       "    }\n",
       "</style>\n",
       "<table border=\"1\" class=\"dataframe\">\n",
       "  <thead>\n",
       "    <tr style=\"text-align: right;\">\n",
       "      <th></th>\n",
       "    </tr>\n",
       "  </thead>\n",
       "  <tbody>\n",
       "  </tbody>\n",
       "</table>\n",
       "</div>"
      ],
      "text/plain": [
       "Empty DataFrame\n",
       "Columns: []\n",
       "Index: []"
      ]
     },
     "execution_count": 2,
     "metadata": {},
     "output_type": "execute_result"
    }
   ],
   "source": [
    "d1 = pd.DataFrame()\n",
    "d1"
   ]
  },
  {
   "cell_type": "code",
   "execution_count": 3,
   "id": "a4f04cab-ffce-463f-ae0f-cd46fcc3dfdc",
   "metadata": {},
   "outputs": [
    {
     "data": {
      "text/plain": [
       "pandas.core.frame.DataFrame"
      ]
     },
     "execution_count": 3,
     "metadata": {},
     "output_type": "execute_result"
    }
   ],
   "source": [
    "type(d1)"
   ]
  },
  {
   "cell_type": "markdown",
   "id": "eda23b2e-63af-40e2-95ea-62e49e68d49d",
   "metadata": {},
   "source": [
    "### Step 2: ###\n",
    "\n",
    "### How to provide the data ###"
   ]
  },
  {
   "cell_type": "code",
   "execution_count": 4,
   "id": "50783167-c9a8-4886-a478-59e16b8c9c9f",
   "metadata": {},
   "outputs": [
    {
     "data": {
      "text/html": [
       "<div>\n",
       "<style scoped>\n",
       "    .dataframe tbody tr th:only-of-type {\n",
       "        vertical-align: middle;\n",
       "    }\n",
       "\n",
       "    .dataframe tbody tr th {\n",
       "        vertical-align: top;\n",
       "    }\n",
       "\n",
       "    .dataframe thead th {\n",
       "        text-align: right;\n",
       "    }\n",
       "</style>\n",
       "<table border=\"1\" class=\"dataframe\">\n",
       "  <thead>\n",
       "    <tr style=\"text-align: right;\">\n",
       "      <th></th>\n",
       "      <th>0</th>\n",
       "    </tr>\n",
       "  </thead>\n",
       "  <tbody>\n",
       "    <tr>\n",
       "      <th>0</th>\n",
       "      <td>tarun</td>\n",
       "    </tr>\n",
       "    <tr>\n",
       "      <th>1</th>\n",
       "      <td>surendar</td>\n",
       "    </tr>\n",
       "    <tr>\n",
       "      <th>2</th>\n",
       "      <td>mohith</td>\n",
       "    </tr>\n",
       "  </tbody>\n",
       "</table>\n",
       "</div>"
      ],
      "text/plain": [
       "          0\n",
       "0     tarun\n",
       "1  surendar\n",
       "2    mohith"
      ]
     },
     "execution_count": 4,
     "metadata": {},
     "output_type": "execute_result"
    }
   ],
   "source": [
    "names = ['tarun','surendar','mohith']\n",
    "pd.DataFrame(names)    #Two-dimensional, size-mutable, potentially heterogeneous tabular data.\n",
    "                    # Docstring:     \n",
    "                    # Two-dimensional, size-mutable, potentially heterogeneous tabular data.\n",
    "                    \n",
    "                    # Data structure also contains labeled axes (rows and columns).\n",
    "                    # Arithmetic operations align on both row and column labels. Can be\n",
    "                    # thought of as a dict-like container for Series objects. The primary\n",
    "                    # pandas data structure.\n"
   ]
  },
  {
   "cell_type": "code",
   "execution_count": 6,
   "id": "b22a22ac-4bc1-4f78-bc62-ac2a3d889e9f",
   "metadata": {},
   "outputs": [
    {
     "data": {
      "text/html": [
       "<div>\n",
       "<style scoped>\n",
       "    .dataframe tbody tr th:only-of-type {\n",
       "        vertical-align: middle;\n",
       "    }\n",
       "\n",
       "    .dataframe tbody tr th {\n",
       "        vertical-align: top;\n",
       "    }\n",
       "\n",
       "    .dataframe thead th {\n",
       "        text-align: right;\n",
       "    }\n",
       "</style>\n",
       "<table border=\"1\" class=\"dataframe\">\n",
       "  <thead>\n",
       "    <tr style=\"text-align: right;\">\n",
       "      <th></th>\n",
       "      <th>0</th>\n",
       "      <th>1</th>\n",
       "    </tr>\n",
       "  </thead>\n",
       "  <tbody>\n",
       "    <tr>\n",
       "      <th>0</th>\n",
       "      <td>tarun</td>\n",
       "      <td>20</td>\n",
       "    </tr>\n",
       "    <tr>\n",
       "      <th>1</th>\n",
       "      <td>surendar</td>\n",
       "      <td>21</td>\n",
       "    </tr>\n",
       "    <tr>\n",
       "      <th>2</th>\n",
       "      <td>mohith</td>\n",
       "      <td>22</td>\n",
       "    </tr>\n",
       "  </tbody>\n",
       "</table>\n",
       "</div>"
      ],
      "text/plain": [
       "          0   1\n",
       "0     tarun  20\n",
       "1  surendar  21\n",
       "2    mohith  22"
      ]
     },
     "execution_count": 6,
     "metadata": {},
     "output_type": "execute_result"
    }
   ],
   "source": [
    "names = ['tarun','surendar','mohith']\n",
    "age = [20,21,22]\n",
    "pd.DataFrame(zip(names,age))"
   ]
  },
  {
   "cell_type": "code",
   "execution_count": 8,
   "id": "1c471216-cdb7-45ac-bd3c-35c27065f048",
   "metadata": {},
   "outputs": [
    {
     "data": {
      "text/html": [
       "<div>\n",
       "<style scoped>\n",
       "    .dataframe tbody tr th:only-of-type {\n",
       "        vertical-align: middle;\n",
       "    }\n",
       "\n",
       "    .dataframe tbody tr th {\n",
       "        vertical-align: top;\n",
       "    }\n",
       "\n",
       "    .dataframe thead th {\n",
       "        text-align: right;\n",
       "    }\n",
       "</style>\n",
       "<table border=\"1\" class=\"dataframe\">\n",
       "  <thead>\n",
       "    <tr style=\"text-align: right;\">\n",
       "      <th></th>\n",
       "      <th>0</th>\n",
       "      <th>1</th>\n",
       "      <th>2</th>\n",
       "    </tr>\n",
       "  </thead>\n",
       "  <tbody>\n",
       "    <tr>\n",
       "      <th>0</th>\n",
       "      <td>tarun</td>\n",
       "      <td>20</td>\n",
       "      <td>hyd</td>\n",
       "    </tr>\n",
       "    <tr>\n",
       "      <th>1</th>\n",
       "      <td>surendar</td>\n",
       "      <td>21</td>\n",
       "      <td>blr</td>\n",
       "    </tr>\n",
       "    <tr>\n",
       "      <th>2</th>\n",
       "      <td>mohith</td>\n",
       "      <td>22</td>\n",
       "      <td>chn</td>\n",
       "    </tr>\n",
       "  </tbody>\n",
       "</table>\n",
       "</div>"
      ],
      "text/plain": [
       "          0   1    2\n",
       "0     tarun  20  hyd\n",
       "1  surendar  21  blr\n",
       "2    mohith  22  chn"
      ]
     },
     "execution_count": 8,
     "metadata": {},
     "output_type": "execute_result"
    }
   ],
   "source": [
    "names = ['tarun','surendar','mohith']\n",
    "age = [20,21,22]\n",
    "city = ['hyd','blr','chn']\n",
    "pd.DataFrame(zip(names,age,city))"
   ]
  },
  {
   "cell_type": "markdown",
   "id": "f6767536-4307-4a15-ad74-ecd76925b123",
   "metadata": {},
   "source": [
    "### Step 3: ###\r",
    "- Providethe column names"
   ]
  },
  {
   "cell_type": "code",
   "execution_count": 13,
   "id": "45545edd-f74c-4a34-a8d5-c5d3cd05c685",
   "metadata": {},
   "outputs": [
    {
     "data": {
      "text/html": [
       "<div>\n",
       "<style scoped>\n",
       "    .dataframe tbody tr th:only-of-type {\n",
       "        vertical-align: middle;\n",
       "    }\n",
       "\n",
       "    .dataframe tbody tr th {\n",
       "        vertical-align: top;\n",
       "    }\n",
       "\n",
       "    .dataframe thead th {\n",
       "        text-align: right;\n",
       "    }\n",
       "</style>\n",
       "<table border=\"1\" class=\"dataframe\">\n",
       "  <thead>\n",
       "    <tr style=\"text-align: right;\">\n",
       "      <th></th>\n",
       "      <th>Name</th>\n",
       "    </tr>\n",
       "  </thead>\n",
       "  <tbody>\n",
       "    <tr>\n",
       "      <th>0</th>\n",
       "      <td>tarun</td>\n",
       "    </tr>\n",
       "    <tr>\n",
       "      <th>1</th>\n",
       "      <td>surendar</td>\n",
       "    </tr>\n",
       "    <tr>\n",
       "      <th>2</th>\n",
       "      <td>mohith</td>\n",
       "    </tr>\n",
       "  </tbody>\n",
       "</table>\n",
       "</div>"
      ],
      "text/plain": [
       "       Name\n",
       "0     tarun\n",
       "1  surendar\n",
       "2    mohith"
      ]
     },
     "execution_count": 13,
     "metadata": {},
     "output_type": "execute_result"
    }
   ],
   "source": [
    "names = ['tarun','surendar','mohith']\n",
    "pd.DataFrame(names, columns=['Name'])"
   ]
  },
  {
   "cell_type": "code",
   "execution_count": 20,
   "id": "8c2867bf-e696-4f59-99c5-a609edcd7883",
   "metadata": {},
   "outputs": [
    {
     "data": {
      "text/html": [
       "<div>\n",
       "<style scoped>\n",
       "    .dataframe tbody tr th:only-of-type {\n",
       "        vertical-align: middle;\n",
       "    }\n",
       "\n",
       "    .dataframe tbody tr th {\n",
       "        vertical-align: top;\n",
       "    }\n",
       "\n",
       "    .dataframe thead th {\n",
       "        text-align: right;\n",
       "    }\n",
       "</style>\n",
       "<table border=\"1\" class=\"dataframe\">\n",
       "  <thead>\n",
       "    <tr style=\"text-align: right;\">\n",
       "      <th></th>\n",
       "      <th>Name</th>\n",
       "      <th>Age</th>\n",
       "      <th>City</th>\n",
       "    </tr>\n",
       "  </thead>\n",
       "  <tbody>\n",
       "    <tr>\n",
       "      <th>0</th>\n",
       "      <td>tarun</td>\n",
       "      <td>20</td>\n",
       "      <td>hyd</td>\n",
       "    </tr>\n",
       "    <tr>\n",
       "      <th>1</th>\n",
       "      <td>surendar</td>\n",
       "      <td>21</td>\n",
       "      <td>blr</td>\n",
       "    </tr>\n",
       "    <tr>\n",
       "      <th>2</th>\n",
       "      <td>mohith</td>\n",
       "      <td>22</td>\n",
       "      <td>chn</td>\n",
       "    </tr>\n",
       "  </tbody>\n",
       "</table>\n",
       "</div>"
      ],
      "text/plain": [
       "       Name  Age City\n",
       "0     tarun   20  hyd\n",
       "1  surendar   21  blr\n",
       "2    mohith   22  chn"
      ]
     },
     "execution_count": 20,
     "metadata": {},
     "output_type": "execute_result"
    }
   ],
   "source": [
    "names = ['tarun','surendar','mohith']\n",
    "age = [20,21,22]\n",
    "city = ['hyd','blr','chn']\n",
    "\n",
    "data = zip(names,age,city)\n",
    "cols = ['Name','Age','City']\n",
    "pd.DataFrame(data,columns=cols)\n",
    "# pd.DataFrame(zip(names,age,city),columns=['Name','Age','City'])"
   ]
  },
  {
   "cell_type": "markdown",
   "id": "e6db1d71-85b0-4650-8625-6cffca2bebeb",
   "metadata": {},
   "source": [
    "### Step4 ###\n",
    "### Provide Index ###"
   ]
  },
  {
   "cell_type": "code",
   "execution_count": 23,
   "id": "25fccb2b-1704-4d31-a111-9447a2872e71",
   "metadata": {},
   "outputs": [
    {
     "data": {
      "text/html": [
       "<div>\n",
       "<style scoped>\n",
       "    .dataframe tbody tr th:only-of-type {\n",
       "        vertical-align: middle;\n",
       "    }\n",
       "\n",
       "    .dataframe tbody tr th {\n",
       "        vertical-align: top;\n",
       "    }\n",
       "\n",
       "    .dataframe thead th {\n",
       "        text-align: right;\n",
       "    }\n",
       "</style>\n",
       "<table border=\"1\" class=\"dataframe\">\n",
       "  <thead>\n",
       "    <tr style=\"text-align: right;\">\n",
       "      <th></th>\n",
       "      <th>Name</th>\n",
       "      <th>Age</th>\n",
       "      <th>City</th>\n",
       "    </tr>\n",
       "  </thead>\n",
       "  <tbody>\n",
       "    <tr>\n",
       "      <th>A</th>\n",
       "      <td>tarun</td>\n",
       "      <td>20</td>\n",
       "      <td>hyd</td>\n",
       "    </tr>\n",
       "    <tr>\n",
       "      <th>B</th>\n",
       "      <td>surendar</td>\n",
       "      <td>21</td>\n",
       "      <td>blr</td>\n",
       "    </tr>\n",
       "    <tr>\n",
       "      <th>C</th>\n",
       "      <td>mohith</td>\n",
       "      <td>22</td>\n",
       "      <td>chn</td>\n",
       "    </tr>\n",
       "  </tbody>\n",
       "</table>\n",
       "</div>"
      ],
      "text/plain": [
       "       Name  Age City\n",
       "A     tarun   20  hyd\n",
       "B  surendar   21  blr\n",
       "C    mohith   22  chn"
      ]
     },
     "execution_count": 23,
     "metadata": {},
     "output_type": "execute_result"
    }
   ],
   "source": [
    "names = ['tarun','surendar','mohith']\n",
    "age = [20,21,22]\n",
    "city = ['hyd','blr','chn']\n",
    "\n",
    "data = zip(names,age,city)\n",
    "cols = ['Name','Age','City']\n",
    "ind= ['A','B','C']\n",
    "pd.DataFrame(data,index=ind,columns=cols)"
   ]
  },
  {
   "cell_type": "code",
   "execution_count": 26,
   "id": "2bcf9a0c-c70b-4451-87c9-42e74cf8ca93",
   "metadata": {},
   "outputs": [
    {
     "data": {
      "text/html": [
       "<div>\n",
       "<style scoped>\n",
       "    .dataframe tbody tr th:only-of-type {\n",
       "        vertical-align: middle;\n",
       "    }\n",
       "\n",
       "    .dataframe tbody tr th {\n",
       "        vertical-align: top;\n",
       "    }\n",
       "\n",
       "    .dataframe thead th {\n",
       "        text-align: right;\n",
       "    }\n",
       "</style>\n",
       "<table border=\"1\" class=\"dataframe\">\n",
       "  <thead>\n",
       "    <tr style=\"text-align: right;\">\n",
       "      <th></th>\n",
       "      <th>Name</th>\n",
       "      <th>Age</th>\n",
       "    </tr>\n",
       "  </thead>\n",
       "  <tbody>\n",
       "    <tr>\n",
       "      <th>hyd</th>\n",
       "      <td>tarun</td>\n",
       "      <td>20</td>\n",
       "    </tr>\n",
       "    <tr>\n",
       "      <th>blr</th>\n",
       "      <td>surendar</td>\n",
       "      <td>21</td>\n",
       "    </tr>\n",
       "    <tr>\n",
       "      <th>chn</th>\n",
       "      <td>mohith</td>\n",
       "      <td>22</td>\n",
       "    </tr>\n",
       "  </tbody>\n",
       "</table>\n",
       "</div>"
      ],
      "text/plain": [
       "         Name  Age\n",
       "hyd     tarun   20\n",
       "blr  surendar   21\n",
       "chn    mohith   22"
      ]
     },
     "execution_count": 26,
     "metadata": {},
     "output_type": "execute_result"
    }
   ],
   "source": [
    "names = ['tarun','surendar','mohith']\n",
    "age = [20,21,22]\n",
    "city = ['hyd','blr','chn']\n",
    "\n",
    "data = zip(names,age)\n",
    "cols = ['Name','Age']\n",
    "df = pd.DataFrame(data,index=city,columns=cols)\n",
    "df"
   ]
  },
  {
   "cell_type": "markdown",
   "id": "b418ccdf-3229-420c-b9ae-7d328dfe5ad2",
   "metadata": {},
   "source": [
    "- Create a DataFrame\n",
    "- Add the columns data, provide the Column names\n",
    "- Provide the index names"
   ]
  },
  {
   "cell_type": "markdown",
   "id": "804b82f4-dec0-4f7f-8e3c-b79a4fcdffd3",
   "metadata": {},
   "source": [
    "### Step 5\n",
    "- Add new column on  existing DataFrame: To add a new Column, check number of rows in a DataFrame. New column also should have same number of rows.\n",
    "- New column should be different to already existing Column names in DataFrame\n",
    "- Syntax: dataframe[new_column_name] = new_column-data"
   ]
  },
  {
   "cell_type": "code",
   "execution_count": 14,
   "id": "91031577-951a-418a-ae75-d7d672f3d1b0",
   "metadata": {},
   "outputs": [
    {
     "name": "stdout",
     "output_type": "stream",
     "text": [
      "       Name  Age City\n",
      "0     tarun   20  hyd\n",
      "1  surendar   21  blr\n",
      "2    mohith   22  chn\n",
      "       Name  Age City  Salary\n",
      "0     tarun   20  hyd   60000\n",
      "1  surendar   21  blr   50000\n",
      "2    mohith   22  chn   85000\n"
     ]
    }
   ],
   "source": [
    "import pandas as pd\n",
    "\n",
    "names = ['tarun','surendar','mohith']\n",
    "age = [20,21,22]\n",
    "city = ['hyd','blr','chn']\n",
    "\n",
    "col_data = zip(names,age,city)\n",
    "col_names = ['Name','Age','City']\n",
    "df = pd.DataFrame(col_data,columns=col_names)   # dataframe with 3 rows\n",
    "print(df)\n",
    "\n",
    "# Add Salary column with 3 values\n",
    "salary = [60000,50000,85000]\n",
    "df['Salary'] = salary\n",
    "print(df)"
   ]
  },
  {
   "cell_type": "code",
   "execution_count": 57,
   "id": "e5c1e5f5-f35d-4b42-9b8c-7bde7bdf67bb",
   "metadata": {},
   "outputs": [
    {
     "name": "stdout",
     "output_type": "stream",
     "text": [
      "    X    Y     Z\n",
      "0   1    1     1\n",
      "1   2    4     8\n",
      "2   3    9    27\n",
      "3   4   16    64\n",
      "4   5   25   125\n",
      "5   6   36   216\n",
      "6   7   49   343\n",
      "7   8   64   512\n",
      "8   9   81   729\n",
      "9  10  100  1000\n"
     ]
    }
   ],
   "source": [
    "# Create an empty DataFrame. \n",
    "# Create 3 lists using list comprehension. \n",
    "# list1 should have values from 1 to 10\n",
    "# list2 should have Square of 1 to 10\n",
    "# list3 should have Cude of 1 to 10\n",
    "# make a DataFrame with above 3 lists\n",
    "\n",
    "df = pd.DataFrame()\n",
    "list1 = [i for i in range(1,11)]\n",
    "list2 = [i**2 for i in range(1,11)]\n",
    "list3 = [i**3 for i in range(1,11)]\n",
    "\n",
    "df['X'] = list1\n",
    "df['Y'] = list2\n",
    "df['Z'] = list3\n",
    "\n",
    "print(df)"
   ]
  },
  {
   "cell_type": "markdown",
   "id": "21a8dd38-b9b1-4920-a9c5-f25bcff6587b",
   "metadata": {},
   "source": [
    "### Step 6:\n",
    "- Update existing column data in a DataFrame\n",
    "- If we want to add column with same name which is already exists, then existing column data will be overwrite"
   ]
  },
  {
   "cell_type": "code",
   "execution_count": 52,
   "id": "aa76ced5-6a3d-474e-97cf-174fce8a598d",
   "metadata": {},
   "outputs": [
    {
     "name": "stdout",
     "output_type": "stream",
     "text": [
      "    X    Y      Z\n",
      "0   1    1      1\n",
      "1   2    4     16\n",
      "2   3    9     81\n",
      "3   4   16    256\n",
      "4   5   25    625\n",
      "5   6   36   1296\n",
      "6   7   49   2401\n",
      "7   8   64   4096\n",
      "8   9   81   6561\n",
      "9  10  100  10000\n"
     ]
    }
   ],
   "source": [
    "# Update Z column with i power 4.\n",
    "\n",
    "list4 = [i**4 for i in range(1,11)]\n",
    "df['Z'] = list4\n",
    "print(df)"
   ]
  },
  {
   "cell_type": "markdown",
   "id": "fdc826a2-0912-49fe-b5fd-b3cb484e5b64",
   "metadata": {},
   "source": [
    "### Step 7:\n",
    "- Remove/Drop the column\n",
    "-  df.drop()\n",
    "-  axis : {0 or 'index', 1 or 'columns'}, default 0\r\n",
    "    Whether to drop labels from the index (0 or 'index') or\r\n",
    "    columns (1 or 'columns'\n",
    "   ex: df.drop(axis:1) or df.drop(axis: 'columns')\n",
    "- columns : single label or list-like\r\n",
    "              Column names to remove).\n",
    "- inplace : bool, default False\r\n",
    "    If False, return a cop of a DataFramey\n",
    "     Otherwise, do operatio   in pla (Same DatFrame will overwrite)ce and return None.)."
   ]
  },
  {
   "cell_type": "code",
   "execution_count": 38,
   "id": "2b9587b4-d695-4cfd-8a32-28957289f096",
   "metadata": {},
   "outputs": [
    {
     "data": {
      "text/plain": [
       "Index(['X', 'Y', 'Z'], dtype='object')"
      ]
     },
     "execution_count": 38,
     "metadata": {},
     "output_type": "execute_result"
    }
   ],
   "source": [
    "#Check the column names in a DataFrame\n",
    "\n",
    "df.columns"
   ]
  },
  {
   "cell_type": "code",
   "execution_count": 58,
   "id": "f9da8f9b-02d1-4a22-8bd2-971f0e4ae83b",
   "metadata": {},
   "outputs": [
    {
     "name": "stdout",
     "output_type": "stream",
     "text": [
      "    X     Z\n",
      "0   1     1\n",
      "1   2     8\n",
      "2   3    27\n",
      "3   4    64\n",
      "4   5   125\n",
      "5   6   216\n",
      "6   7   343\n",
      "7   8   512\n",
      "8   9   729\n",
      "9  10  1000\n"
     ]
    }
   ],
   "source": [
    "df.drop('Y',               #  'Y' will be removed)\n",
    "        axis= 1,    # axis= 'columns' or axis= 1 ===> Drop Columns\n",
    "        inplace = True)    # inpalce = True ===> Same DataFrame will be replaced\n",
    "                     \n",
    "print(df)"
   ]
  },
  {
   "cell_type": "code",
   "execution_count": 60,
   "id": "97ba19b0-f1ea-4d2f-a8fc-4e1071b0ce01",
   "metadata": {},
   "outputs": [
    {
     "name": "stdout",
     "output_type": "stream",
     "text": [
      "    X     Z\n",
      "0   1     1\n",
      "1   2     8\n",
      "2   3    27\n",
      "3   4    64\n",
      "4   5   125\n",
      "5   6   216\n",
      "6   7   343\n",
      "7   8   512\n",
      "8   9   729\n",
      "9  10  1000\n",
      "    X\n",
      "0   1\n",
      "1   2\n",
      "2   3\n",
      "3   4\n",
      "4   5\n",
      "5   6\n",
      "6   7\n",
      "7   8\n",
      "8   9\n",
      "9  10\n"
     ]
    }
   ],
   "source": [
    "df.drop('Z',               #  'Z' will be removed)\n",
    "        axis= 1)           # axis= 'columns' or axis= 1 ===> Drop Columns\n",
    "                      \n",
    "print(df)       # It will return column 'Z'. Because in the drop() we didn't mention \"inplace = True\". So it will not replace the dataframe. \n",
    "                # So drop() will return a copy of the dataframe\n",
    "\n",
    "#######################################################\n",
    "df2 = df.drop('Z',               #  'Z' will be removed\n",
    "        axis= 1)                 # axis= 'columns' or axis= 1 ===> Drop Columns\n",
    "print(df2)"
   ]
  },
  {
   "cell_type": "markdown",
   "id": "aae932ad-e36d-4f0c-bf80-9b275864497f",
   "metadata": {},
   "source": [
    "- PRactice\n",
    "- Read the Dataframe\n",
    "- Provide the data to Dataframe\n",
    "- Provide the column names\n",
    "- CHange the index\n",
    "- Add new column\n",
    "- Drop a column\n",
    "- Modify the existing column\n"
   ]
  },
  {
   "cell_type": "markdown",
   "id": "aeca7f1d-1115-413c-a10c-562347d1b883",
   "metadata": {},
   "source": [
    "### Step 8: ###\n",
    "Drop the row\n",
    " - Process for Drop the column and drop the row is same\n",
    " - Only difference is Axis=0 will be used for Rows, Axis =1 will be used for COlumns\n",
    " - Axis = 0 represent Row\n",
    " - BY default Axis=0. MEans if we don't provide any value to Axis, then it will consider as Row "
   ]
  },
  {
   "cell_type": "code",
   "execution_count": 5,
   "id": "abaaf70d-1b13-475b-95f3-024a07c94a9b",
   "metadata": {},
   "outputs": [
    {
     "name": "stdout",
     "output_type": "stream",
     "text": [
      "     Name City\n",
      "0   manoj  hyd\n",
      "1  ashish  viz\n",
      "2   priya  blr\n",
      "3    teju  chn\n"
     ]
    }
   ],
   "source": [
    "#Dataframe df1 \n",
    "import pandas as pd\n",
    "df1 = pd.DataFrame()\n",
    "names_list = ['manoj','ashish','priya','teju']\n",
    "city_list = ['hyd','viz','blr','chn']\n",
    "\n",
    "df1['Name']= names_list\n",
    "df1['City'] = city_list\n",
    "\n",
    "print(df1)\n"
   ]
  },
  {
   "cell_type": "code",
   "execution_count": 8,
   "id": "43e08b8a-1366-498c-97b8-6dbb15f2e8cd",
   "metadata": {},
   "outputs": [
    {
     "name": "stdout",
     "output_type": "stream",
     "text": [
      "     Name City\n",
      "0   manoj  hyd\n",
      "1  ashish  viz\n",
      "3    teju  chn\n"
     ]
    }
   ],
   "source": [
    "df2 = df1.drop(2) # It will drop the row '2' and assign result DataFrame to df2 \n",
    "print(df2)  "
   ]
  },
  {
   "cell_type": "code",
   "execution_count": 13,
   "id": "db0e3cc2-a79c-49d9-a989-c45433ebd835",
   "metadata": {},
   "outputs": [
    {
     "ename": "KeyError",
     "evalue": "'[2] not found in axis'",
     "output_type": "error",
     "traceback": [
      "\u001b[1;31m---------------------------------------------------------------------------\u001b[0m",
      "\u001b[1;31mKeyError\u001b[0m                                  Traceback (most recent call last)",
      "Cell \u001b[1;32mIn[13], line 1\u001b[0m\n\u001b[1;32m----> 1\u001b[0m df3 \u001b[38;5;241m=\u001b[39m df2\u001b[38;5;241m.\u001b[39mdrop(\u001b[38;5;241m2\u001b[39m) \u001b[38;5;66;03m# KeyError: '[2] not found in axis'. There is no row with '2'\u001b[39;00m\n\u001b[0;32m      2\u001b[0m \u001b[38;5;28mprint\u001b[39m(df3)\n",
      "File \u001b[1;32m~\\anaconda3\\Lib\\site-packages\\pandas\\core\\frame.py:5344\u001b[0m, in \u001b[0;36mDataFrame.drop\u001b[1;34m(self, labels, axis, index, columns, level, inplace, errors)\u001b[0m\n\u001b[0;32m   5196\u001b[0m \u001b[38;5;28;01mdef\u001b[39;00m \u001b[38;5;21mdrop\u001b[39m(\n\u001b[0;32m   5197\u001b[0m     \u001b[38;5;28mself\u001b[39m,\n\u001b[0;32m   5198\u001b[0m     labels: IndexLabel \u001b[38;5;241m|\u001b[39m \u001b[38;5;28;01mNone\u001b[39;00m \u001b[38;5;241m=\u001b[39m \u001b[38;5;28;01mNone\u001b[39;00m,\n\u001b[1;32m   (...)\u001b[0m\n\u001b[0;32m   5205\u001b[0m     errors: IgnoreRaise \u001b[38;5;241m=\u001b[39m \u001b[38;5;124m\"\u001b[39m\u001b[38;5;124mraise\u001b[39m\u001b[38;5;124m\"\u001b[39m,\n\u001b[0;32m   5206\u001b[0m ) \u001b[38;5;241m-\u001b[39m\u001b[38;5;241m>\u001b[39m DataFrame \u001b[38;5;241m|\u001b[39m \u001b[38;5;28;01mNone\u001b[39;00m:\n\u001b[0;32m   5207\u001b[0m \u001b[38;5;250m    \u001b[39m\u001b[38;5;124;03m\"\"\"\u001b[39;00m\n\u001b[0;32m   5208\u001b[0m \u001b[38;5;124;03m    Drop specified labels from rows or columns.\u001b[39;00m\n\u001b[0;32m   5209\u001b[0m \n\u001b[1;32m   (...)\u001b[0m\n\u001b[0;32m   5342\u001b[0m \u001b[38;5;124;03m            weight  1.0     0.8\u001b[39;00m\n\u001b[0;32m   5343\u001b[0m \u001b[38;5;124;03m    \"\"\"\u001b[39;00m\n\u001b[1;32m-> 5344\u001b[0m     \u001b[38;5;28;01mreturn\u001b[39;00m \u001b[38;5;28msuper\u001b[39m()\u001b[38;5;241m.\u001b[39mdrop(\n\u001b[0;32m   5345\u001b[0m         labels\u001b[38;5;241m=\u001b[39mlabels,\n\u001b[0;32m   5346\u001b[0m         axis\u001b[38;5;241m=\u001b[39maxis,\n\u001b[0;32m   5347\u001b[0m         index\u001b[38;5;241m=\u001b[39mindex,\n\u001b[0;32m   5348\u001b[0m         columns\u001b[38;5;241m=\u001b[39mcolumns,\n\u001b[0;32m   5349\u001b[0m         level\u001b[38;5;241m=\u001b[39mlevel,\n\u001b[0;32m   5350\u001b[0m         inplace\u001b[38;5;241m=\u001b[39minplace,\n\u001b[0;32m   5351\u001b[0m         errors\u001b[38;5;241m=\u001b[39merrors,\n\u001b[0;32m   5352\u001b[0m     )\n",
      "File \u001b[1;32m~\\anaconda3\\Lib\\site-packages\\pandas\\core\\generic.py:4711\u001b[0m, in \u001b[0;36mNDFrame.drop\u001b[1;34m(self, labels, axis, index, columns, level, inplace, errors)\u001b[0m\n\u001b[0;32m   4709\u001b[0m \u001b[38;5;28;01mfor\u001b[39;00m axis, labels \u001b[38;5;129;01min\u001b[39;00m axes\u001b[38;5;241m.\u001b[39mitems():\n\u001b[0;32m   4710\u001b[0m     \u001b[38;5;28;01mif\u001b[39;00m labels \u001b[38;5;129;01mis\u001b[39;00m \u001b[38;5;129;01mnot\u001b[39;00m \u001b[38;5;28;01mNone\u001b[39;00m:\n\u001b[1;32m-> 4711\u001b[0m         obj \u001b[38;5;241m=\u001b[39m obj\u001b[38;5;241m.\u001b[39m_drop_axis(labels, axis, level\u001b[38;5;241m=\u001b[39mlevel, errors\u001b[38;5;241m=\u001b[39merrors)\n\u001b[0;32m   4713\u001b[0m \u001b[38;5;28;01mif\u001b[39;00m inplace:\n\u001b[0;32m   4714\u001b[0m     \u001b[38;5;28mself\u001b[39m\u001b[38;5;241m.\u001b[39m_update_inplace(obj)\n",
      "File \u001b[1;32m~\\anaconda3\\Lib\\site-packages\\pandas\\core\\generic.py:4753\u001b[0m, in \u001b[0;36mNDFrame._drop_axis\u001b[1;34m(self, labels, axis, level, errors, only_slice)\u001b[0m\n\u001b[0;32m   4751\u001b[0m         new_axis \u001b[38;5;241m=\u001b[39m axis\u001b[38;5;241m.\u001b[39mdrop(labels, level\u001b[38;5;241m=\u001b[39mlevel, errors\u001b[38;5;241m=\u001b[39merrors)\n\u001b[0;32m   4752\u001b[0m     \u001b[38;5;28;01melse\u001b[39;00m:\n\u001b[1;32m-> 4753\u001b[0m         new_axis \u001b[38;5;241m=\u001b[39m axis\u001b[38;5;241m.\u001b[39mdrop(labels, errors\u001b[38;5;241m=\u001b[39merrors)\n\u001b[0;32m   4754\u001b[0m     indexer \u001b[38;5;241m=\u001b[39m axis\u001b[38;5;241m.\u001b[39mget_indexer(new_axis)\n\u001b[0;32m   4756\u001b[0m \u001b[38;5;66;03m# Case for non-unique axis\u001b[39;00m\n\u001b[0;32m   4757\u001b[0m \u001b[38;5;28;01melse\u001b[39;00m:\n",
      "File \u001b[1;32m~\\anaconda3\\Lib\\site-packages\\pandas\\core\\indexes\\base.py:7000\u001b[0m, in \u001b[0;36mIndex.drop\u001b[1;34m(self, labels, errors)\u001b[0m\n\u001b[0;32m   6998\u001b[0m \u001b[38;5;28;01mif\u001b[39;00m mask\u001b[38;5;241m.\u001b[39many():\n\u001b[0;32m   6999\u001b[0m     \u001b[38;5;28;01mif\u001b[39;00m errors \u001b[38;5;241m!=\u001b[39m \u001b[38;5;124m\"\u001b[39m\u001b[38;5;124mignore\u001b[39m\u001b[38;5;124m\"\u001b[39m:\n\u001b[1;32m-> 7000\u001b[0m         \u001b[38;5;28;01mraise\u001b[39;00m \u001b[38;5;167;01mKeyError\u001b[39;00m(\u001b[38;5;124mf\u001b[39m\u001b[38;5;124m\"\u001b[39m\u001b[38;5;132;01m{\u001b[39;00mlabels[mask]\u001b[38;5;241m.\u001b[39mtolist()\u001b[38;5;132;01m}\u001b[39;00m\u001b[38;5;124m not found in axis\u001b[39m\u001b[38;5;124m\"\u001b[39m)\n\u001b[0;32m   7001\u001b[0m     indexer \u001b[38;5;241m=\u001b[39m indexer[\u001b[38;5;241m~\u001b[39mmask]\n\u001b[0;32m   7002\u001b[0m \u001b[38;5;28;01mreturn\u001b[39;00m \u001b[38;5;28mself\u001b[39m\u001b[38;5;241m.\u001b[39mdelete(indexer)\n",
      "\u001b[1;31mKeyError\u001b[0m: '[2] not found in axis'"
     ]
    }
   ],
   "source": [
    "df3 = df2.drop(2) # KeyError: '[2] not found in axis'. There is no row with '2'\n",
    "print(df3) "
   ]
  },
  {
   "cell_type": "code",
   "execution_count": 16,
   "id": "c1b6b3af-4738-4ef5-a4e6-2b216a9c09ff",
   "metadata": {},
   "outputs": [
    {
     "name": "stdout",
     "output_type": "stream",
     "text": [
      "     Name City\n",
      "1  ashish  viz\n",
      "2   priya  blr\n"
     ]
    }
   ],
   "source": [
    "#Drop multiple columns.\n",
    "# To drop multiple columns, provide the indexes in a list\n",
    "df2 = df1.drop([0,3])\n",
    "print(df2)"
   ]
  },
  {
   "cell_type": "code",
   "execution_count": 17,
   "id": "60311055-852f-4f68-b352-30201348fc1c",
   "metadata": {},
   "outputs": [
    {
     "name": "stdout",
     "output_type": "stream",
     "text": [
      "     Name City\n",
      "1  ashish  viz\n",
      "2   priya  blr\n"
     ]
    }
   ],
   "source": [
    "df2 = df1.drop([0,3],axis=0)\n",
    "print(df2)"
   ]
  },
  {
   "cell_type": "code",
   "execution_count": 19,
   "id": "dc438fd2-9bf4-49a2-b0ea-dd3da53bebe4",
   "metadata": {},
   "outputs": [
    {
     "name": "stdout",
     "output_type": "stream",
     "text": [
      "     Name City\n",
      "0   manoj  hyd\n",
      "1  ashish  viz\n",
      "2   priya  blr\n",
      "3    teju  chn\n"
     ]
    }
   ],
   "source": [
    "print(df1)"
   ]
  },
  {
   "cell_type": "code",
   "execution_count": 21,
   "id": "2068f7a9-8fec-44c4-860f-30815fcd6836",
   "metadata": {
    "scrolled": true
   },
   "outputs": [
    {
     "ename": "KeyError",
     "evalue": "'[0, 3] not found in axis'",
     "output_type": "error",
     "traceback": [
      "\u001b[1;31m---------------------------------------------------------------------------\u001b[0m",
      "\u001b[1;31mKeyError\u001b[0m                                  Traceback (most recent call last)",
      "Cell \u001b[1;32mIn[21], line 1\u001b[0m\n\u001b[1;32m----> 1\u001b[0m df2 \u001b[38;5;241m=\u001b[39m df1\u001b[38;5;241m.\u001b[39mdrop([\u001b[38;5;241m0\u001b[39m,\u001b[38;5;241m3\u001b[39m],axis\u001b[38;5;241m=\u001b[39m\u001b[38;5;241m1\u001b[39m)   \u001b[38;5;66;03m#KeyError: '[0, 3] not found in axis'\u001b[39;00m\n\u001b[0;32m      2\u001b[0m \u001b[38;5;28mprint\u001b[39m(df2)\n",
      "File \u001b[1;32m~\\anaconda3\\Lib\\site-packages\\pandas\\core\\frame.py:5344\u001b[0m, in \u001b[0;36mDataFrame.drop\u001b[1;34m(self, labels, axis, index, columns, level, inplace, errors)\u001b[0m\n\u001b[0;32m   5196\u001b[0m \u001b[38;5;28;01mdef\u001b[39;00m \u001b[38;5;21mdrop\u001b[39m(\n\u001b[0;32m   5197\u001b[0m     \u001b[38;5;28mself\u001b[39m,\n\u001b[0;32m   5198\u001b[0m     labels: IndexLabel \u001b[38;5;241m|\u001b[39m \u001b[38;5;28;01mNone\u001b[39;00m \u001b[38;5;241m=\u001b[39m \u001b[38;5;28;01mNone\u001b[39;00m,\n\u001b[1;32m   (...)\u001b[0m\n\u001b[0;32m   5205\u001b[0m     errors: IgnoreRaise \u001b[38;5;241m=\u001b[39m \u001b[38;5;124m\"\u001b[39m\u001b[38;5;124mraise\u001b[39m\u001b[38;5;124m\"\u001b[39m,\n\u001b[0;32m   5206\u001b[0m ) \u001b[38;5;241m-\u001b[39m\u001b[38;5;241m>\u001b[39m DataFrame \u001b[38;5;241m|\u001b[39m \u001b[38;5;28;01mNone\u001b[39;00m:\n\u001b[0;32m   5207\u001b[0m \u001b[38;5;250m    \u001b[39m\u001b[38;5;124;03m\"\"\"\u001b[39;00m\n\u001b[0;32m   5208\u001b[0m \u001b[38;5;124;03m    Drop specified labels from rows or columns.\u001b[39;00m\n\u001b[0;32m   5209\u001b[0m \n\u001b[1;32m   (...)\u001b[0m\n\u001b[0;32m   5342\u001b[0m \u001b[38;5;124;03m            weight  1.0     0.8\u001b[39;00m\n\u001b[0;32m   5343\u001b[0m \u001b[38;5;124;03m    \"\"\"\u001b[39;00m\n\u001b[1;32m-> 5344\u001b[0m     \u001b[38;5;28;01mreturn\u001b[39;00m \u001b[38;5;28msuper\u001b[39m()\u001b[38;5;241m.\u001b[39mdrop(\n\u001b[0;32m   5345\u001b[0m         labels\u001b[38;5;241m=\u001b[39mlabels,\n\u001b[0;32m   5346\u001b[0m         axis\u001b[38;5;241m=\u001b[39maxis,\n\u001b[0;32m   5347\u001b[0m         index\u001b[38;5;241m=\u001b[39mindex,\n\u001b[0;32m   5348\u001b[0m         columns\u001b[38;5;241m=\u001b[39mcolumns,\n\u001b[0;32m   5349\u001b[0m         level\u001b[38;5;241m=\u001b[39mlevel,\n\u001b[0;32m   5350\u001b[0m         inplace\u001b[38;5;241m=\u001b[39minplace,\n\u001b[0;32m   5351\u001b[0m         errors\u001b[38;5;241m=\u001b[39merrors,\n\u001b[0;32m   5352\u001b[0m     )\n",
      "File \u001b[1;32m~\\anaconda3\\Lib\\site-packages\\pandas\\core\\generic.py:4711\u001b[0m, in \u001b[0;36mNDFrame.drop\u001b[1;34m(self, labels, axis, index, columns, level, inplace, errors)\u001b[0m\n\u001b[0;32m   4709\u001b[0m \u001b[38;5;28;01mfor\u001b[39;00m axis, labels \u001b[38;5;129;01min\u001b[39;00m axes\u001b[38;5;241m.\u001b[39mitems():\n\u001b[0;32m   4710\u001b[0m     \u001b[38;5;28;01mif\u001b[39;00m labels \u001b[38;5;129;01mis\u001b[39;00m \u001b[38;5;129;01mnot\u001b[39;00m \u001b[38;5;28;01mNone\u001b[39;00m:\n\u001b[1;32m-> 4711\u001b[0m         obj \u001b[38;5;241m=\u001b[39m obj\u001b[38;5;241m.\u001b[39m_drop_axis(labels, axis, level\u001b[38;5;241m=\u001b[39mlevel, errors\u001b[38;5;241m=\u001b[39merrors)\n\u001b[0;32m   4713\u001b[0m \u001b[38;5;28;01mif\u001b[39;00m inplace:\n\u001b[0;32m   4714\u001b[0m     \u001b[38;5;28mself\u001b[39m\u001b[38;5;241m.\u001b[39m_update_inplace(obj)\n",
      "File \u001b[1;32m~\\anaconda3\\Lib\\site-packages\\pandas\\core\\generic.py:4753\u001b[0m, in \u001b[0;36mNDFrame._drop_axis\u001b[1;34m(self, labels, axis, level, errors, only_slice)\u001b[0m\n\u001b[0;32m   4751\u001b[0m         new_axis \u001b[38;5;241m=\u001b[39m axis\u001b[38;5;241m.\u001b[39mdrop(labels, level\u001b[38;5;241m=\u001b[39mlevel, errors\u001b[38;5;241m=\u001b[39merrors)\n\u001b[0;32m   4752\u001b[0m     \u001b[38;5;28;01melse\u001b[39;00m:\n\u001b[1;32m-> 4753\u001b[0m         new_axis \u001b[38;5;241m=\u001b[39m axis\u001b[38;5;241m.\u001b[39mdrop(labels, errors\u001b[38;5;241m=\u001b[39merrors)\n\u001b[0;32m   4754\u001b[0m     indexer \u001b[38;5;241m=\u001b[39m axis\u001b[38;5;241m.\u001b[39mget_indexer(new_axis)\n\u001b[0;32m   4756\u001b[0m \u001b[38;5;66;03m# Case for non-unique axis\u001b[39;00m\n\u001b[0;32m   4757\u001b[0m \u001b[38;5;28;01melse\u001b[39;00m:\n",
      "File \u001b[1;32m~\\anaconda3\\Lib\\site-packages\\pandas\\core\\indexes\\base.py:7000\u001b[0m, in \u001b[0;36mIndex.drop\u001b[1;34m(self, labels, errors)\u001b[0m\n\u001b[0;32m   6998\u001b[0m \u001b[38;5;28;01mif\u001b[39;00m mask\u001b[38;5;241m.\u001b[39many():\n\u001b[0;32m   6999\u001b[0m     \u001b[38;5;28;01mif\u001b[39;00m errors \u001b[38;5;241m!=\u001b[39m \u001b[38;5;124m\"\u001b[39m\u001b[38;5;124mignore\u001b[39m\u001b[38;5;124m\"\u001b[39m:\n\u001b[1;32m-> 7000\u001b[0m         \u001b[38;5;28;01mraise\u001b[39;00m \u001b[38;5;167;01mKeyError\u001b[39;00m(\u001b[38;5;124mf\u001b[39m\u001b[38;5;124m\"\u001b[39m\u001b[38;5;132;01m{\u001b[39;00mlabels[mask]\u001b[38;5;241m.\u001b[39mtolist()\u001b[38;5;132;01m}\u001b[39;00m\u001b[38;5;124m not found in axis\u001b[39m\u001b[38;5;124m\"\u001b[39m)\n\u001b[0;32m   7001\u001b[0m     indexer \u001b[38;5;241m=\u001b[39m indexer[\u001b[38;5;241m~\u001b[39mmask]\n\u001b[0;32m   7002\u001b[0m \u001b[38;5;28;01mreturn\u001b[39;00m \u001b[38;5;28mself\u001b[39m\u001b[38;5;241m.\u001b[39mdelete(indexer)\n",
      "\u001b[1;31mKeyError\u001b[0m: '[0, 3] not found in axis'"
     ]
    }
   ],
   "source": [
    "df2 = df1.drop([0,3],axis=1)   #KeyError: '[0, 3] not found in axis'\n",
    "print(df2)\n",
    "#Getting error because axis=1 means it represents column. THere is no column with 0 or 3."
   ]
  },
  {
   "cell_type": "markdown",
   "id": "b801f9a9-c072-4809-8ba5-8f3047b81a95",
   "metadata": {},
   "source": [
    "### Step 9:\n",
    "How to select a column\n",
    "- "
   ]
  },
  {
   "cell_type": "code",
   "execution_count": 41,
   "id": "a0c07ebf-75a2-4098-911f-e7d51beececb",
   "metadata": {},
   "outputs": [
    {
     "name": "stdout",
     "output_type": "stream",
     "text": [
      "0     manoj\n",
      "1    ashish\n",
      "2     priya\n",
      "3      teju\n",
      "Name: Name, dtype: object\n"
     ]
    },
    {
     "data": {
      "text/plain": [
       "pandas.core.series.Series"
      ]
     },
     "execution_count": 41,
     "metadata": {},
     "output_type": "execute_result"
    }
   ],
   "source": [
    "# Get the specific column data from a dataframe\n",
    "print(df1['Name'])\n",
    "#It will not return Column name in the result.\n",
    "# It will return the data of the column 'Name'\n",
    "\n",
    "\n",
    "# Series type\n",
    "type(df1['Name'] ) #pandas.core.series.Series"
   ]
  },
  {
   "cell_type": "code",
   "execution_count": 43,
   "id": "90f2a72b-d4f1-44c6-a94d-4751581ff88a",
   "metadata": {},
   "outputs": [
    {
     "name": "stdout",
     "output_type": "stream",
     "text": [
      "     Name\n",
      "0   manoj\n",
      "1  ashish\n",
      "2   priya\n",
      "3    teju\n"
     ]
    },
    {
     "data": {
      "text/plain": [
       "pandas.core.frame.DataFrame"
      ]
     },
     "execution_count": 43,
     "metadata": {},
     "output_type": "execute_result"
    }
   ],
   "source": [
    "print(df1[['Name']])\n",
    "# It will return Column name and column data as well.\n",
    "\n",
    "# It is Data frame type\n",
    "type(df1[['Name']])  #pandas.core.frame.DataFrame"
   ]
  },
  {
   "cell_type": "code",
   "execution_count": 48,
   "id": "24cde579-8a6b-4333-a8d6-d2e843f2162a",
   "metadata": {},
   "outputs": [
    {
     "name": "stdout",
     "output_type": "stream",
     "text": [
      "0     manoj\n",
      "1    ashish\n",
      "2     priya\n",
      "3      teju\n",
      "Name: Name, dtype: object\n"
     ]
    },
    {
     "data": {
      "text/plain": [
       "pandas.core.series.Series"
      ]
     },
     "execution_count": 48,
     "metadata": {},
     "output_type": "execute_result"
    }
   ],
   "source": [
    "# Get the specific column data from a dataframe\n",
    "print(df1.Name)\n",
    "\n",
    "type(df1.Name)  #pandas.core.series.Series"
   ]
  },
  {
   "cell_type": "code",
   "execution_count": 56,
   "id": "45b9bc56-ce9d-49d2-bc09-903040af4222",
   "metadata": {},
   "outputs": [
    {
     "data": {
      "text/html": [
       "<div>\n",
       "<style scoped>\n",
       "    .dataframe tbody tr th:only-of-type {\n",
       "        vertical-align: middle;\n",
       "    }\n",
       "\n",
       "    .dataframe tbody tr th {\n",
       "        vertical-align: top;\n",
       "    }\n",
       "\n",
       "    .dataframe thead th {\n",
       "        text-align: right;\n",
       "    }\n",
       "</style>\n",
       "<table border=\"1\" class=\"dataframe\">\n",
       "  <thead>\n",
       "    <tr style=\"text-align: right;\">\n",
       "      <th></th>\n",
       "      <th>Name</th>\n",
       "      <th>City</th>\n",
       "      <th>Salary</th>\n",
       "    </tr>\n",
       "  </thead>\n",
       "  <tbody>\n",
       "    <tr>\n",
       "      <th>0</th>\n",
       "      <td>manoj</td>\n",
       "      <td>hyd</td>\n",
       "      <td>25000</td>\n",
       "    </tr>\n",
       "    <tr>\n",
       "      <th>1</th>\n",
       "      <td>ashish</td>\n",
       "      <td>viz</td>\n",
       "      <td>50000</td>\n",
       "    </tr>\n",
       "    <tr>\n",
       "      <th>2</th>\n",
       "      <td>priya</td>\n",
       "      <td>blr</td>\n",
       "      <td>35000</td>\n",
       "    </tr>\n",
       "    <tr>\n",
       "      <th>3</th>\n",
       "      <td>teju</td>\n",
       "      <td>chn</td>\n",
       "      <td>72000</td>\n",
       "    </tr>\n",
       "  </tbody>\n",
       "</table>\n",
       "</div>"
      ],
      "text/plain": [
       "     Name City  Salary\n",
       "0   manoj  hyd   25000\n",
       "1  ashish  viz   50000\n",
       "2   priya  blr   35000\n",
       "3    teju  chn   72000"
      ]
     },
     "execution_count": 56,
     "metadata": {},
     "output_type": "execute_result"
    }
   ],
   "source": [
    "df1['Salary'] = [25000,50000,35000,72000]\n",
    "df1"
   ]
  },
  {
   "cell_type": "code",
   "execution_count": 57,
   "id": "da99aac5-e123-49e8-91af-341771780a6d",
   "metadata": {},
   "outputs": [
    {
     "data": {
      "text/html": [
       "<div>\n",
       "<style scoped>\n",
       "    .dataframe tbody tr th:only-of-type {\n",
       "        vertical-align: middle;\n",
       "    }\n",
       "\n",
       "    .dataframe tbody tr th {\n",
       "        vertical-align: top;\n",
       "    }\n",
       "\n",
       "    .dataframe thead th {\n",
       "        text-align: right;\n",
       "    }\n",
       "</style>\n",
       "<table border=\"1\" class=\"dataframe\">\n",
       "  <thead>\n",
       "    <tr style=\"text-align: right;\">\n",
       "      <th></th>\n",
       "      <th>Name</th>\n",
       "      <th>Salary</th>\n",
       "    </tr>\n",
       "  </thead>\n",
       "  <tbody>\n",
       "    <tr>\n",
       "      <th>0</th>\n",
       "      <td>manoj</td>\n",
       "      <td>25000</td>\n",
       "    </tr>\n",
       "    <tr>\n",
       "      <th>1</th>\n",
       "      <td>ashish</td>\n",
       "      <td>50000</td>\n",
       "    </tr>\n",
       "    <tr>\n",
       "      <th>2</th>\n",
       "      <td>priya</td>\n",
       "      <td>35000</td>\n",
       "    </tr>\n",
       "    <tr>\n",
       "      <th>3</th>\n",
       "      <td>teju</td>\n",
       "      <td>72000</td>\n",
       "    </tr>\n",
       "  </tbody>\n",
       "</table>\n",
       "</div>"
      ],
      "text/plain": [
       "     Name  Salary\n",
       "0   manoj   25000\n",
       "1  ashish   50000\n",
       "2   priya   35000\n",
       "3    teju   72000"
      ]
     },
     "execution_count": 57,
     "metadata": {},
     "output_type": "execute_result"
    }
   ],
   "source": [
    "# Get  multiple columns. \n",
    "#Put desired column names in a list\n",
    "get_cols = ['Name','Salary']\n",
    "df1[get_cols]"
   ]
  },
  {
   "cell_type": "code",
   "execution_count": 63,
   "id": "4d5abfec-fce4-473e-9e9b-cc3affd0991c",
   "metadata": {},
   "outputs": [
    {
     "data": {
      "text/plain": [
       "array(['manoj', 'ashish', 'priya', 'teju'], dtype=object)"
      ]
     },
     "execution_count": 63,
     "metadata": {},
     "output_type": "execute_result"
    }
   ],
   "source": [
    "#Get specific Column data in an array\n",
    "df1['Name'].values\n",
    "# Array means list of elements only represents using numpy package\n",
    "\n",
    "# Generally elemnts present in 4 ways:\n",
    "  # List          - Basic representation\n",
    "  # NUmpy array   - Array with Numpy package representaion\n",
    "  # Tensors       - Tensorflow package\n",
    "  # Torch         - Pytorch package"
   ]
  },
  {
   "cell_type": "code",
   "execution_count": 60,
   "id": "e783fc94-c777-40d3-be31-bd5664443124",
   "metadata": {},
   "outputs": [
    {
     "name": "stdout",
     "output_type": "stream",
     "text": [
      "['manoj' 'ashish' 'priya' 'teju']\n"
     ]
    }
   ],
   "source": [
    "print(df1['Name'].values)"
   ]
  },
  {
   "cell_type": "code",
   "execution_count": 64,
   "id": "7362799c-2409-407a-9c97-0b921253aa95",
   "metadata": {},
   "outputs": [
    {
     "data": {
      "text/plain": [
       "[1, 2, 3, 4]"
      ]
     },
     "execution_count": 64,
     "metadata": {},
     "output_type": "execute_result"
    }
   ],
   "source": [
    "#List representation\n",
    "list1 = [1,2,3,4]\n",
    "list1"
   ]
  },
  {
   "cell_type": "code",
   "execution_count": 65,
   "id": "caf0a0d1-6357-4cfd-9ce5-bf78bae4faad",
   "metadata": {},
   "outputs": [
    {
     "data": {
      "text/plain": [
       "array([1, 2, 3, 4])"
      ]
     },
     "execution_count": 65,
     "metadata": {},
     "output_type": "execute_result"
    }
   ],
   "source": [
    "import numpy as np\n",
    "np.array(list1)"
   ]
  },
  {
   "cell_type": "code",
   "execution_count": 70,
   "id": "e8c9af7e-9246-42fd-9892-54282c16de2f",
   "metadata": {},
   "outputs": [
    {
     "name": "stdout",
     "output_type": "stream",
     "text": [
      "[1, 2, 3, 4, 15, 16, 18, 19]\n",
      "[16 18 21 23]\n"
     ]
    }
   ],
   "source": [
    "import numpy as np\n",
    "\n",
    "list1 = [1,2,3,4]\n",
    "list2 = [15,16,18,19]\n",
    "print(list1+list2)  # Append the 2 lists elements \n",
    "np_l1 = np.array(list1)\n",
    "np_l2 = np.array(list2)\n",
    "print(np_l1+np_l2)   # It will add/sum the elements in the 2 lists"
   ]
  },
  {
   "cell_type": "code",
   "execution_count": 73,
   "id": "0e6e550c-ec31-42f3-a39c-34351d3b9083",
   "metadata": {},
   "outputs": [
    {
     "name": "stdout",
     "output_type": "stream",
     "text": [
      "[1, 2, 3, 4, 5, 15, 16, 18, 19]\n"
     ]
    },
    {
     "ename": "ValueError",
     "evalue": "operands could not be broadcast together with shapes (5,) (4,) ",
     "output_type": "error",
     "traceback": [
      "\u001b[1;31m---------------------------------------------------------------------------\u001b[0m",
      "\u001b[1;31mValueError\u001b[0m                                Traceback (most recent call last)",
      "Cell \u001b[1;32mIn[73], line 6\u001b[0m\n\u001b[0;32m      4\u001b[0m np_l1 \u001b[38;5;241m=\u001b[39m np\u001b[38;5;241m.\u001b[39marray(list1)\n\u001b[0;32m      5\u001b[0m np_l2 \u001b[38;5;241m=\u001b[39m np\u001b[38;5;241m.\u001b[39marray(list2)\n\u001b[1;32m----> 6\u001b[0m \u001b[38;5;28mprint\u001b[39m(np_l1\u001b[38;5;241m+\u001b[39mnp_l2)\n",
      "\u001b[1;31mValueError\u001b[0m: operands could not be broadcast together with shapes (5,) (4,) "
     ]
    }
   ],
   "source": [
    "list1 = [1,2,3,4,5]\n",
    "list2 = [15,16,18,19]\n",
    "print(list1+list2)  # Append the 2 lists elements \n",
    "np_l1 = np.array(list1)\n",
    "np_l2 = np.array(list2)\n",
    "print(np_l1+np_l2)"
   ]
  },
  {
   "cell_type": "code",
   "execution_count": 74,
   "id": "9e025a26-c64c-4d2a-81e1-adf020b9803b",
   "metadata": {},
   "outputs": [
    {
     "name": "stdout",
     "output_type": "stream",
     "text": [
      "[1, 2, 3, 4, 15, 16, 18, 19, 21]\n"
     ]
    },
    {
     "ename": "ValueError",
     "evalue": "operands could not be broadcast together with shapes (4,) (5,) ",
     "output_type": "error",
     "traceback": [
      "\u001b[1;31m---------------------------------------------------------------------------\u001b[0m",
      "\u001b[1;31mValueError\u001b[0m                                Traceback (most recent call last)",
      "Cell \u001b[1;32mIn[74], line 6\u001b[0m\n\u001b[0;32m      4\u001b[0m np_l1 \u001b[38;5;241m=\u001b[39m np\u001b[38;5;241m.\u001b[39marray(list1)\n\u001b[0;32m      5\u001b[0m np_l2 \u001b[38;5;241m=\u001b[39m np\u001b[38;5;241m.\u001b[39marray(list2)\n\u001b[1;32m----> 6\u001b[0m \u001b[38;5;28mprint\u001b[39m(np_l1\u001b[38;5;241m+\u001b[39mnp_l2)\n",
      "\u001b[1;31mValueError\u001b[0m: operands could not be broadcast together with shapes (4,) (5,) "
     ]
    }
   ],
   "source": [
    "list1 = [1,2,3,4]\n",
    "list2 = [15,16,18,19,21]\n",
    "print(list1+list2)  # Append the 2 lists elements \n",
    "np_l1 = np.array(list1)\n",
    "np_l2 = np.array(list2)\n",
    "print(np_l1+np_l2)"
   ]
  },
  {
   "cell_type": "code",
   "execution_count": 77,
   "id": "4050e61a-aaab-4cf8-bfc8-d85ca8ac6677",
   "metadata": {},
   "outputs": [
    {
     "data": {
      "text/html": [
       "<div>\n",
       "<style scoped>\n",
       "    .dataframe tbody tr th:only-of-type {\n",
       "        vertical-align: middle;\n",
       "    }\n",
       "\n",
       "    .dataframe tbody tr th {\n",
       "        vertical-align: top;\n",
       "    }\n",
       "\n",
       "    .dataframe thead th {\n",
       "        text-align: right;\n",
       "    }\n",
       "</style>\n",
       "<table border=\"1\" class=\"dataframe\">\n",
       "  <thead>\n",
       "    <tr style=\"text-align: right;\">\n",
       "      <th></th>\n",
       "      <th>Name</th>\n",
       "      <th>City</th>\n",
       "      <th>Salary</th>\n",
       "      <th>CITY2</th>\n",
       "      <th>CITY3</th>\n",
       "    </tr>\n",
       "  </thead>\n",
       "  <tbody>\n",
       "    <tr>\n",
       "      <th>0</th>\n",
       "      <td>manoj</td>\n",
       "      <td>hyd</td>\n",
       "      <td>25000</td>\n",
       "      <td>hyd</td>\n",
       "      <td>hyd</td>\n",
       "    </tr>\n",
       "    <tr>\n",
       "      <th>1</th>\n",
       "      <td>ashish</td>\n",
       "      <td>viz</td>\n",
       "      <td>50000</td>\n",
       "      <td>viz</td>\n",
       "      <td>viz</td>\n",
       "    </tr>\n",
       "    <tr>\n",
       "      <th>2</th>\n",
       "      <td>priya</td>\n",
       "      <td>blr</td>\n",
       "      <td>35000</td>\n",
       "      <td>blr</td>\n",
       "      <td>blr</td>\n",
       "    </tr>\n",
       "    <tr>\n",
       "      <th>3</th>\n",
       "      <td>teju</td>\n",
       "      <td>chn</td>\n",
       "      <td>72000</td>\n",
       "      <td>chn</td>\n",
       "      <td>chn</td>\n",
       "    </tr>\n",
       "  </tbody>\n",
       "</table>\n",
       "</div>"
      ],
      "text/plain": [
       "     Name City  Salary CITY2 CITY3\n",
       "0   manoj  hyd   25000   hyd   hyd\n",
       "1  ashish  viz   50000   viz   viz\n",
       "2   priya  blr   35000   blr   blr\n",
       "3    teju  chn   72000   chn   chn"
      ]
     },
     "execution_count": 77,
     "metadata": {},
     "output_type": "execute_result"
    }
   ],
   "source": [
    "# Add new column 'CITY2', with same values as in existing column 'City'\n",
    "df1['CITY2'] = np.array(df1['City'].values)\n",
    "df1\n",
    "\n",
    "# Or\n",
    "df1['CITY3'] = df1['City'].values\n",
    "df1"
   ]
  },
  {
   "cell_type": "markdown",
   "id": "6c69938b-23d1-489d-b608-30e02c578aaf",
   "metadata": {},
   "source": [
    "### Step 10:\n",
    "Save the DataFrame\n",
    " -  DataFrames can be saved into 2 formats:\n",
    "   - CSV\n",
    "   - XLSX\n",
    "- INorder to save any data, we need to decide 2 things:\n",
    "    1) Where you want to save - Directory/Path\n",
    "     2) Name of the File to be saved - Filename\n",
    "     3) Extension of the file - .< extn >"
   ]
  },
  {
   "cell_type": "code",
   "execution_count": 80,
   "id": "b2907e25-9492-4562-8551-87f8ad85e495",
   "metadata": {},
   "outputs": [],
   "source": [
    "# Case1: Save file in same path/directory.\n",
    "    # No need to provide directory, as we are saving into same path\n",
    "    # Directly give name of the file and extension\n",
    "df1.to_csv('DatFrame1.CSV')\n",
    "df1.to_excel('DataFrame1.xlsx')\n",
    "\n",
    "#Files will be saved in same path"
   ]
  },
  {
   "cell_type": "markdown",
   "id": "3d48a50e-42e8-4539-a5db-f661cc672f43",
   "metadata": {},
   "source": [
    "### Step 11:\n",
    "How to Read data from a DataFrame\n",
    "- "
   ]
  },
  {
   "cell_type": "code",
   "execution_count": 84,
   "id": "33202b4d-500b-4b89-a715-7aca00e45995",
   "metadata": {},
   "outputs": [
    {
     "data": {
      "text/html": [
       "<div>\n",
       "<style scoped>\n",
       "    .dataframe tbody tr th:only-of-type {\n",
       "        vertical-align: middle;\n",
       "    }\n",
       "\n",
       "    .dataframe tbody tr th {\n",
       "        vertical-align: top;\n",
       "    }\n",
       "\n",
       "    .dataframe thead th {\n",
       "        text-align: right;\n",
       "    }\n",
       "</style>\n",
       "<table border=\"1\" class=\"dataframe\">\n",
       "  <thead>\n",
       "    <tr style=\"text-align: right;\">\n",
       "      <th></th>\n",
       "      <th>Unnamed: 0</th>\n",
       "      <th>Name</th>\n",
       "      <th>City</th>\n",
       "      <th>Salary</th>\n",
       "      <th>CITY2</th>\n",
       "      <th>CITY3</th>\n",
       "    </tr>\n",
       "  </thead>\n",
       "  <tbody>\n",
       "    <tr>\n",
       "      <th>0</th>\n",
       "      <td>0</td>\n",
       "      <td>manoj</td>\n",
       "      <td>hyd</td>\n",
       "      <td>25000</td>\n",
       "      <td>hyd</td>\n",
       "      <td>hyd</td>\n",
       "    </tr>\n",
       "    <tr>\n",
       "      <th>1</th>\n",
       "      <td>1</td>\n",
       "      <td>ashish</td>\n",
       "      <td>viz</td>\n",
       "      <td>50000</td>\n",
       "      <td>viz</td>\n",
       "      <td>viz</td>\n",
       "    </tr>\n",
       "    <tr>\n",
       "      <th>2</th>\n",
       "      <td>2</td>\n",
       "      <td>priya</td>\n",
       "      <td>blr</td>\n",
       "      <td>35000</td>\n",
       "      <td>blr</td>\n",
       "      <td>blr</td>\n",
       "    </tr>\n",
       "    <tr>\n",
       "      <th>3</th>\n",
       "      <td>3</td>\n",
       "      <td>teju</td>\n",
       "      <td>chn</td>\n",
       "      <td>72000</td>\n",
       "      <td>chn</td>\n",
       "      <td>chn</td>\n",
       "    </tr>\n",
       "  </tbody>\n",
       "</table>\n",
       "</div>"
      ],
      "text/plain": [
       "   Unnamed: 0    Name City  Salary CITY2 CITY3\n",
       "0           0   manoj  hyd   25000   hyd   hyd\n",
       "1           1  ashish  viz   50000   viz   viz\n",
       "2           2   priya  blr   35000   blr   blr\n",
       "3           3    teju  chn   72000   chn   chn"
      ]
     },
     "execution_count": 84,
     "metadata": {},
     "output_type": "execute_result"
    }
   ],
   "source": [
    "import pandas as pd\n",
    "pd.read_csv('DatFrame1.CSV')\n",
    "# Here, we will get extra column 'Unnamed: 0'"
   ]
  },
  {
   "cell_type": "code",
   "execution_count": 85,
   "id": "2031d56f-b803-4070-a11b-bf73b0c6f3f9",
   "metadata": {},
   "outputs": [
    {
     "data": {
      "text/html": [
       "<div>\n",
       "<style scoped>\n",
       "    .dataframe tbody tr th:only-of-type {\n",
       "        vertical-align: middle;\n",
       "    }\n",
       "\n",
       "    .dataframe tbody tr th {\n",
       "        vertical-align: top;\n",
       "    }\n",
       "\n",
       "    .dataframe thead th {\n",
       "        text-align: right;\n",
       "    }\n",
       "</style>\n",
       "<table border=\"1\" class=\"dataframe\">\n",
       "  <thead>\n",
       "    <tr style=\"text-align: right;\">\n",
       "      <th></th>\n",
       "      <th>Unnamed: 0</th>\n",
       "      <th>Name</th>\n",
       "      <th>City</th>\n",
       "      <th>Salary</th>\n",
       "      <th>CITY2</th>\n",
       "      <th>CITY3</th>\n",
       "    </tr>\n",
       "  </thead>\n",
       "  <tbody>\n",
       "    <tr>\n",
       "      <th>0</th>\n",
       "      <td>0</td>\n",
       "      <td>manoj</td>\n",
       "      <td>hyd</td>\n",
       "      <td>25000</td>\n",
       "      <td>hyd</td>\n",
       "      <td>hyd</td>\n",
       "    </tr>\n",
       "    <tr>\n",
       "      <th>1</th>\n",
       "      <td>1</td>\n",
       "      <td>ashish</td>\n",
       "      <td>viz</td>\n",
       "      <td>50000</td>\n",
       "      <td>viz</td>\n",
       "      <td>viz</td>\n",
       "    </tr>\n",
       "    <tr>\n",
       "      <th>2</th>\n",
       "      <td>2</td>\n",
       "      <td>priya</td>\n",
       "      <td>blr</td>\n",
       "      <td>35000</td>\n",
       "      <td>blr</td>\n",
       "      <td>blr</td>\n",
       "    </tr>\n",
       "    <tr>\n",
       "      <th>3</th>\n",
       "      <td>3</td>\n",
       "      <td>teju</td>\n",
       "      <td>chn</td>\n",
       "      <td>72000</td>\n",
       "      <td>chn</td>\n",
       "      <td>chn</td>\n",
       "    </tr>\n",
       "  </tbody>\n",
       "</table>\n",
       "</div>"
      ],
      "text/plain": [
       "   Unnamed: 0    Name City  Salary CITY2 CITY3\n",
       "0           0   manoj  hyd   25000   hyd   hyd\n",
       "1           1  ashish  viz   50000   viz   viz\n",
       "2           2   priya  blr   35000   blr   blr\n",
       "3           3    teju  chn   72000   chn   chn"
      ]
     },
     "execution_count": 85,
     "metadata": {},
     "output_type": "execute_result"
    }
   ],
   "source": [
    "import pandas as pd\n",
    "pd.read_excel('DataFrame1.xlsx') # Here, we will get extra column 'Unnamed: 0'"
   ]
  },
  {
   "cell_type": "markdown",
   "id": "f1c72f43-23ec-4dfc-9615-c3fb14c468ba",
   "metadata": {},
   "source": [
    "### Step 12:\n",
    "How to avoid extra column while reading the data from a DataFrame\n",
    "-  Extra column will be added while we save the data in a file from DataFrame\n",
    "- TO avoid, use parameter index=False\n"
   ]
  },
  {
   "cell_type": "code",
   "execution_count": 92,
   "id": "29b7c8ed-d73e-4f3d-8021-2dd20d7b8788",
   "metadata": {},
   "outputs": [],
   "source": [
    "df1.to_csv('DataFrame2.csv',index=False)\n",
    "df1.to_excel('DataFrame2.xlsx',index=False)"
   ]
  },
  {
   "cell_type": "code",
   "execution_count": 97,
   "id": "f9160cc8-e8c7-4a8f-b2c0-5f72073ec776",
   "metadata": {},
   "outputs": [
    {
     "name": "stdout",
     "output_type": "stream",
     "text": [
      "     Name City  Salary CITY2 CITY3\n",
      "0   manoj  hyd   25000   hyd   hyd\n",
      "1  ashish  viz   50000   viz   viz\n",
      "2   priya  blr   35000   blr   blr\n",
      "3    teju  chn   72000   chn   chn\n"
     ]
    },
    {
     "data": {
      "text/html": [
       "<div>\n",
       "<style scoped>\n",
       "    .dataframe tbody tr th:only-of-type {\n",
       "        vertical-align: middle;\n",
       "    }\n",
       "\n",
       "    .dataframe tbody tr th {\n",
       "        vertical-align: top;\n",
       "    }\n",
       "\n",
       "    .dataframe thead th {\n",
       "        text-align: right;\n",
       "    }\n",
       "</style>\n",
       "<table border=\"1\" class=\"dataframe\">\n",
       "  <thead>\n",
       "    <tr style=\"text-align: right;\">\n",
       "      <th></th>\n",
       "      <th>Name</th>\n",
       "      <th>City</th>\n",
       "      <th>Salary</th>\n",
       "      <th>CITY2</th>\n",
       "      <th>CITY3</th>\n",
       "    </tr>\n",
       "  </thead>\n",
       "  <tbody>\n",
       "    <tr>\n",
       "      <th>0</th>\n",
       "      <td>manoj</td>\n",
       "      <td>hyd</td>\n",
       "      <td>25000</td>\n",
       "      <td>hyd</td>\n",
       "      <td>hyd</td>\n",
       "    </tr>\n",
       "    <tr>\n",
       "      <th>1</th>\n",
       "      <td>ashish</td>\n",
       "      <td>viz</td>\n",
       "      <td>50000</td>\n",
       "      <td>viz</td>\n",
       "      <td>viz</td>\n",
       "    </tr>\n",
       "    <tr>\n",
       "      <th>2</th>\n",
       "      <td>priya</td>\n",
       "      <td>blr</td>\n",
       "      <td>35000</td>\n",
       "      <td>blr</td>\n",
       "      <td>blr</td>\n",
       "    </tr>\n",
       "    <tr>\n",
       "      <th>3</th>\n",
       "      <td>teju</td>\n",
       "      <td>chn</td>\n",
       "      <td>72000</td>\n",
       "      <td>chn</td>\n",
       "      <td>chn</td>\n",
       "    </tr>\n",
       "  </tbody>\n",
       "</table>\n",
       "</div>"
      ],
      "text/plain": [
       "     Name City  Salary CITY2 CITY3\n",
       "0   manoj  hyd   25000   hyd   hyd\n",
       "1  ashish  viz   50000   viz   viz\n",
       "2   priya  blr   35000   blr   blr\n",
       "3    teju  chn   72000   chn   chn"
      ]
     },
     "execution_count": 97,
     "metadata": {},
     "output_type": "execute_result"
    }
   ],
   "source": [
    "#Read the data from saved files. Now no extra column will be there.\n",
    "import pandas as pd\n",
    "print(pd.read_csv('DataFrame2.csv'))\n",
    "pd.read_excel('DataFrame2.xlsx')"
   ]
  },
  {
   "cell_type": "code",
   "execution_count": null,
   "id": "1d431dc0-9c78-400a-ac3e-bff05a3e3709",
   "metadata": {},
   "outputs": [],
   "source": []
  }
 ],
 "metadata": {
  "kernelspec": {
   "display_name": "Python 3 (ipykernel)",
   "language": "python",
   "name": "python3"
  },
  "language_info": {
   "codemirror_mode": {
    "name": "ipython",
    "version": 3
   },
   "file_extension": ".py",
   "mimetype": "text/x-python",
   "name": "python",
   "nbconvert_exporter": "python",
   "pygments_lexer": "ipython3",
   "version": "3.11.7"
  }
 },
 "nbformat": 4,
 "nbformat_minor": 5
}
