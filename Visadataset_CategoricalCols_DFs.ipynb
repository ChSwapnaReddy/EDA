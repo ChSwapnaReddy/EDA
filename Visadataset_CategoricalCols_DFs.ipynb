{
 "cells": [
  {
   "cell_type": "code",
   "execution_count": 2,
   "id": "aa07376b-f935-4069-a103-a3026a3a1e99",
   "metadata": {},
   "outputs": [],
   "source": [
    "#  import required packages\n",
    "import pandas as pd\n",
    "import numpy as np\n",
    "import matplotlib.pyplot as plot\n",
    "import seaborn as sbn"
   ]
  },
  {
   "cell_type": "code",
   "execution_count": 3,
   "id": "1b3d6adf-30d7-45a6-a6f6-0c45ad592436",
   "metadata": {},
   "outputs": [
    {
     "data": {
      "text/plain": [
       "['case_id',\n",
       " 'continent',\n",
       " 'education_of_employee',\n",
       " 'has_job_experience',\n",
       " 'requires_job_training',\n",
       " 'region_of_employment',\n",
       " 'unit_of_wage',\n",
       " 'full_time_position',\n",
       " 'case_status']"
      ]
     },
     "execution_count": 3,
     "metadata": {},
     "output_type": "execute_result"
    }
   ],
   "source": [
    "# Read the data from file Visadataset.csv\n",
    "file_path = r\"Visadataset.csv\"     # Visadataset.csv is available in same folder\n",
    "visa_df = pd.read_csv(file_path)\n",
    "\n",
    "# Categorical columns list\n",
    "dict_visa = visa_df.dtypes\n",
    "cat_cols = [i for i,j in dict_visa.items() if j=='object']\n",
    "cat_cols"
   ]
  },
  {
   "cell_type": "code",
   "execution_count": 5,
   "id": "ed353474-eb34-4481-b268-65e339ddd19f",
   "metadata": {},
   "outputs": [],
   "source": [
    "# Create a DataFrame with unique values of categorical column 'continent'\n",
    "cdf = visa_df['continent'].value_counts()\n",
    "#  Create a DataFrame using keys and values of cdf\n",
    "keys_list = cdf.keys()\n",
    "values_list = cdf.values\n",
    "cols = ['Labels','Count']\n",
    "cdf_df = pd.DataFrame(zip(keys_list,values_list),columns=cols)\n",
    "cdf_df.to_csv(\"Continent.csv\",index=False)"
   ]
  },
  {
   "cell_type": "code",
   "execution_count": 6,
   "id": "ff532f2e-2e48-4570-89e0-863f6835f460",
   "metadata": {},
   "outputs": [],
   "source": [
    "# Create DataFrames with unique values of each categorical column\n",
    "for i in range(1,len(cat_cols)):\n",
    "    cdf = visa_df[cat_cols[i]].value_counts()\n",
    "    #  Create a DataFrame using keys and values of cdf\n",
    "    keys_list = cdf.keys()\n",
    "    values_list = cdf.values\n",
    "    cols = ['Labels','Count']\n",
    "    cdf_df = pd.DataFrame(zip(keys_list,values_list),columns=cols)\n",
    "    cdf_df.to_csv(cat_cols[i]+\".csv\",index=False)"
   ]
  },
  {
   "cell_type": "code",
   "execution_count": null,
   "id": "c8edb80d-2197-4d40-9db0-cc9cb93e12b1",
   "metadata": {},
   "outputs": [],
   "source": []
  }
 ],
 "metadata": {
  "kernelspec": {
   "display_name": "Python 3 (ipykernel)",
   "language": "python",
   "name": "python3"
  },
  "language_info": {
   "codemirror_mode": {
    "name": "ipython",
    "version": 3
   },
   "file_extension": ".py",
   "mimetype": "text/x-python",
   "name": "python",
   "nbconvert_exporter": "python",
   "pygments_lexer": "ipython3",
   "version": "3.11.7"
  }
 },
 "nbformat": 4,
 "nbformat_minor": 5
}
