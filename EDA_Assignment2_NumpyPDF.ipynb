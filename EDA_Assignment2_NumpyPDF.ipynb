{
 "cells": [
  {
   "cell_type": "code",
   "execution_count": 1,
   "id": "27317f98-5d8d-4436-92b3-86497d79cc50",
   "metadata": {},
   "outputs": [],
   "source": [
    "# Import numpy\n",
    "import numpy as np"
   ]
  },
  {
   "cell_type": "code",
   "execution_count": 6,
   "id": "15a51b88-bb0b-4e39-ac68-520a120a3d4b",
   "metadata": {},
   "outputs": [
    {
     "name": "stdout",
     "output_type": "stream",
     "text": [
      "<class 'numpy.ndarray'>\n",
      "32\n",
      "0\n"
     ]
    }
   ],
   "source": [
    "# Create a numpy array with single value\n",
    "age =32\n",
    "np_array = np.array(age)\n",
    "print(type(np_array))\n",
    "print(np_array)\n",
    "print(np_array.ndim)"
   ]
  },
  {
   "cell_type": "code",
   "execution_count": 7,
   "id": "d7e4c6ad-8c22-4afa-b1e1-b94626f95489",
   "metadata": {},
   "outputs": [
    {
     "name": "stdout",
     "output_type": "stream",
     "text": [
      "[32 26 28 34]\n",
      "1\n"
     ]
    }
   ],
   "source": [
    "# Create a numpy array with multiple values\n",
    "age = [32,26,28,34]\n",
    "np_array = np.array(age)\n",
    "print(np_array)\n",
    "print(np_array.ndim)"
   ]
  },
  {
   "cell_type": "code",
   "execution_count": 9,
   "id": "550cb156-1f3f-492a-8f39-41c43c957c5e",
   "metadata": {},
   "outputs": [
    {
     "name": "stdout",
     "output_type": "stream",
     "text": [
      "[[26 28 24]\n",
      " [32 35 34]]\n",
      "2\n"
     ]
    }
   ],
   "source": [
    "# Create a numpy array with group of values\n",
    "age = [[26,28,24],[32,35,34]]\n",
    "np_array = np.array(age)\n",
    "print(np_array)\n",
    "print(np_array.ndim)"
   ]
  },
  {
   "cell_type": "code",
   "execution_count": 15,
   "id": "d6f24b71-1305-4d59-901e-2cd0fd97034e",
   "metadata": {},
   "outputs": [
    {
     "name": "stdout",
     "output_type": "stream",
     "text": [
      "\n",
      "26 28 24 \n",
      "32 35 34 "
     ]
    }
   ],
   "source": [
    "# Access values from numpy array\n",
    "for i in range(np_array.ndim):\n",
    "    print()\n",
    "    for j in np_array[i]:\n",
    "        print(j,end = \" \")"
   ]
  },
  {
   "cell_type": "code",
   "execution_count": 27,
   "id": "d7ea1d9d-a405-4882-8a3e-e08eeda350d3",
   "metadata": {},
   "outputs": [
    {
     "name": "stdout",
     "output_type": "stream",
     "text": [
      "35\n",
      "48\n"
     ]
    }
   ],
   "source": [
    "#  Create a 3*3 matrix and access elements from the matrix using numpy array\n",
    "age = [[22,25,24],[30,35,32],[48,46,41]]\n",
    "np_array = np.array(age)\n",
    "print(np_array[1,1])\n",
    "print(np_array[2,0])"
   ]
  },
  {
   "cell_type": "code",
   "execution_count": 30,
   "id": "8dc3214d-f1be-4b59-b7f1-9ec946687bb6",
   "metadata": {},
   "outputs": [
    {
     "name": "stdout",
     "output_type": "stream",
     "text": [
      "[0. 0. 0. 0.]\n"
     ]
    }
   ],
   "source": [
    "# Create numpy array with all zeros\n",
    "np_zero_array = np.zeros(4)\n",
    "print(np_zero_array)"
   ]
  },
  {
   "cell_type": "code",
   "execution_count": 31,
   "id": "03eaca41-04cf-4532-8c56-72b88ab1ae21",
   "metadata": {},
   "outputs": [
    {
     "name": "stdout",
     "output_type": "stream",
     "text": [
      "[1. 1. 1. 1. 1. 1.]\n"
     ]
    }
   ],
   "source": [
    "np_ones_arr = np.ones(6)\n",
    "print(np_ones_arr)"
   ]
  },
  {
   "cell_type": "code",
   "execution_count": 38,
   "id": "eceda5df-c9ab-405a-a2ff-17098d7a5464",
   "metadata": {},
   "outputs": [
    {
     "name": "stdout",
     "output_type": "stream",
     "text": [
      "(3, 3)\n",
      "3\n",
      "2\n"
     ]
    }
   ],
   "source": [
    "age = [[22,25,24],[30,35,32],[48,46,41]]\n",
    "np_array = np.array(age)\n",
    "print(np.shape(np_array))\n",
    "print(np.shape(np_array)[0])\n",
    "print(np.ndim(np_array))"
   ]
  },
  {
   "cell_type": "code",
   "execution_count": 42,
   "id": "13655394-d322-44b2-b124-5c9b97c28e41",
   "metadata": {},
   "outputs": [
    {
     "name": "stdout",
     "output_type": "stream",
     "text": [
      "Original Matrix\n",
      "[[22 25]\n",
      " [35 32]\n",
      " [46 41]]\n",
      "Transpose Matrix\n",
      "[[22 35 46]\n",
      " [25 32 41]]\n"
     ]
    }
   ],
   "source": [
    "# Transpose a matrix using 'T' attribute\n",
    "age = [[22,25],[35,32],[46,41]]\n",
    "np_array = np.array(age)\n",
    "print(\"Original Matrix\")\n",
    "print(np_array)\n",
    "print(\"Transpose Matrix\")\n",
    "print(np_array.T)"
   ]
  },
  {
   "cell_type": "code",
   "execution_count": 46,
   "id": "edc94245-e29a-4f01-a66b-3fe1ca8e2640",
   "metadata": {},
   "outputs": [
    {
     "name": "stdout",
     "output_type": "stream",
     "text": [
      "22\n",
      "[22 32 41]\n",
      "[22 25]\n"
     ]
    }
   ],
   "source": [
    "age = [[22,25],[35,32],[46,41]]\n",
    "np_array = np.array(age)\n",
    "print(np_array.min())\n",
    "print(np_array.min(axis=1))\n",
    "print(np_array.min(axis=0))"
   ]
  },
  {
   "cell_type": "code",
   "execution_count": 47,
   "id": "4f707163-2600-4c7a-88db-e3b2ff7faa33",
   "metadata": {},
   "outputs": [
    {
     "name": "stdout",
     "output_type": "stream",
     "text": [
      "46\n",
      "[25 35 46]\n",
      "[46 41]\n"
     ]
    }
   ],
   "source": [
    "age = [[22,25],[35,32],[46,41]]\n",
    "np_array = np.array(age)\n",
    "print(np_array.max())\n",
    "print(np_array.max(axis=1))\n",
    "print(np_array.max(axis=0))"
   ]
  },
  {
   "cell_type": "code",
   "execution_count": 49,
   "id": "e0298852-aa80-4435-bef6-3b1083d97f9e",
   "metadata": {},
   "outputs": [
    {
     "name": "stdout",
     "output_type": "stream",
     "text": [
      "201\n",
      "[47 67 87]\n",
      "[103  98]\n"
     ]
    }
   ],
   "source": [
    "age = [[22,25],[35,32],[46,41]]\n",
    "np_array = np.array(age)\n",
    "print(np_array.sum())\n",
    "print(np_array.sum(axis=1))\n",
    "print(np_array.sum(axis=0))"
   ]
  },
  {
   "cell_type": "code",
   "execution_count": 55,
   "id": "ae6192bf-3a8f-48f4-b927-104dc4afc99e",
   "metadata": {},
   "outputs": [
    {
     "name": "stdout",
     "output_type": "stream",
     "text": [
      "[[22 25]\n",
      " [35 32]\n",
      " [46 41]\n",
      " [26 28]\n",
      " [39 38]]\n",
      "[[22 25 35 32 46]\n",
      " [41 26 28 39 38]]\n",
      "[[22 25 35 32 46 41 26 28 39 38]]\n"
     ]
    }
   ],
   "source": [
    "age = [[22,25],[35,32],[46,41],[26,28],[39,38]]\n",
    "np_array = np.array(age)\n",
    "print(np_array)\n",
    "print(np_array.reshape(2,5))\n",
    "print(np_array.reshape(1,10))"
   ]
  },
  {
   "cell_type": "code",
   "execution_count": 70,
   "id": "e971ea50-331c-4475-947a-f0ff24b36d65",
   "metadata": {},
   "outputs": [
    {
     "name": "stdout",
     "output_type": "stream",
     "text": [
      "(array([0, 1, 1, 2, 2], dtype=int64), array([0, 0, 1, 0, 1], dtype=int64))\n",
      "5\n",
      "[[  0  22]\n",
      " [-32  35]\n",
      " [ 41  46]]\n",
      "[[-32  22]\n",
      " [  0  35]\n",
      " [ 41  46]]\n"
     ]
    }
   ],
   "source": [
    "age = [[22,0],[35,-32],[46,41]]\n",
    "np_array = np.array(age)\n",
    "print(np.nonzero(np_array))\n",
    "print(np.count_nonzero(np_array))\n",
    "np_array.sort()\n",
    "print(np_array)\n",
    "np_array.sort(axis=0)\n",
    "print(np_array)"
   ]
  },
  {
   "cell_type": "code",
   "execution_count": 87,
   "id": "2dfeb201-12df-42f9-8f5b-5e23b4788634",
   "metadata": {},
   "outputs": [
    {
     "name": "stdout",
     "output_type": "stream",
     "text": [
      "[[22 25]\n",
      " [35 32]\n",
      " [46 41]]\n",
      "[[24 27]\n",
      " [37 34]\n",
      " [48 43]]\n",
      "[24 34]\n",
      "Sum of diagonal: 58\n",
      "Trace of matrix: 58\n"
     ]
    }
   ],
   "source": [
    "#  Add value to array elements\n",
    "age = [[22,25],[35,32],[46,41]]\n",
    "np_array = np.array(age)\n",
    "print(np_array)\n",
    "\n",
    "np_array = np_array+2  # Add 2 to each array element\n",
    "print(np_array)\n",
    "\n",
    "print(np_array.diagonal())  # Diagonal elements of a matrix\n",
    "print(f'Sum of diagonal: {sum(np_array.diagonal())}')\n",
    "print(f'Trace of matrix: {np_array.trace()}')    # Trace of a matrix"
   ]
  },
  {
   "cell_type": "code",
   "execution_count": 93,
   "id": "92c15aab-4c74-4700-bc70-83a3c38ea1e6",
   "metadata": {},
   "outputs": [
    {
     "name": "stdout",
     "output_type": "stream",
     "text": [
      "[[32 37]\n",
      " [39 37]\n",
      " [50 50]]\n",
      "[[32 37]\n",
      " [39 37]\n",
      " [50 50]]\n"
     ]
    }
   ],
   "source": [
    "#  Add 2 matrices\n",
    "matrix_a = [[22,25],[35,32],[46,41]]\n",
    "matrix_b = [[10,12],[4,5],[4,9]]\n",
    "np_array_a = np.array(matrix_a)\n",
    "np_array_b = np.array(matrix_b)\n",
    "\n",
    "print(np_array_a+np_array_b)\n",
    "\n",
    "np_array_add = np.add(np_array_a,np_array_b)\n",
    "print(np_array_add)"
   ]
  },
  {
   "cell_type": "code",
   "execution_count": 94,
   "id": "755faf5b-c39b-4b58-8116-43780ddfb3c6",
   "metadata": {},
   "outputs": [
    {
     "name": "stdout",
     "output_type": "stream",
     "text": [
      "[[12 13]\n",
      " [31 27]\n",
      " [42 32]]\n",
      "[[12 13]\n",
      " [31 27]\n",
      " [42 32]]\n"
     ]
    }
   ],
   "source": [
    "#  Subtract 2 matrices values\n",
    "matrix_a = [[22,25],[35,32],[46,41]]\n",
    "matrix_b = [[10,12],[4,5],[4,9]]\n",
    "np_array_a = np.array(matrix_a)\n",
    "np_array_b = np.array(matrix_b)\n",
    "\n",
    "print(np_array_a-np_array_b)\n",
    "\n",
    "np_array_sub = np.subtract(np_array_a,np_array_b)\n",
    "print(np_array_sub)"
   ]
  },
  {
   "cell_type": "code",
   "execution_count": null,
   "id": "67de3f0c-e1c3-4283-b873-ddbc1797287e",
   "metadata": {},
   "outputs": [],
   "source": []
  }
 ],
 "metadata": {
  "kernelspec": {
   "display_name": "Python 3 (ipykernel)",
   "language": "python",
   "name": "python3"
  },
  "language_info": {
   "codemirror_mode": {
    "name": "ipython",
    "version": 3
   },
   "file_extension": ".py",
   "mimetype": "text/x-python",
   "name": "python",
   "nbconvert_exporter": "python",
   "pygments_lexer": "ipython3",
   "version": "3.11.7"
  }
 },
 "nbformat": 4,
 "nbformat_minor": 5
}
