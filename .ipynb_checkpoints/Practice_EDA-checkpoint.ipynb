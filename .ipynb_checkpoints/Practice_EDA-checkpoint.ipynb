{
 "cells": [
  {
   "cell_type": "code",
   "execution_count": 1,
   "id": "f1ec191c-ba33-43b3-8229-623af8316e4b",
   "metadata": {},
   "outputs": [
    {
     "name": "stdout",
     "output_type": "stream",
     "text": [
      "        0   1      2\n",
      "0    Rama  35  25000\n",
      "1  Shivam  32  30000\n",
      "2    Neha  22  32000\n",
      "\n",
      "================Provide names to Columns==================\n",
      "     Name  Age  Salary\n",
      "0    Rama   35   25000\n",
      "1  Shivam   32   30000\n",
      "2    Neha   22   32000\n",
      "\n",
      "================Provide names to Rows df3==================\n",
      "        0   1      2\n",
      "1    Rama  35  25000\n",
      "2  Shivam  32  30000\n",
      "3    Neha  22  32000\n",
      "\n",
      "================Add new column to existing DataFrame df3==================\n",
      "        0   1      2 City\n",
      "1    Rama  35  25000  Hyd\n",
      "2  Shivam  32  30000  Blr\n",
      "3    Neha  22  32000  Chn\n"
     ]
    }
   ],
   "source": [
    "# Create a DataFrame using Lists\n",
    "\n",
    "import pandas as pd\n",
    "\n",
    "name_list = ['Rama','Shivam','Neha']\n",
    "age_list = [35,32,22]\n",
    "salary_list = [25000,30000,32000]            # Zip the lists (data)\n",
    "data_list = zip(name_list,age_list,salary_list)  #\n",
    "df1 = pd.DataFrame(data_list)\n",
    "print(df1)\n",
    "print(\"\\n================Provide names to Columns==================\")\n",
    "col_names = ['Name','Age','Salary']     # Create a list for column names\n",
    "data_list = zip(name_list,age_list,salary_list)\n",
    "df2 = pd.DataFrame(data_list, columns=col_names)\n",
    "print(df2)\n",
    "print(\"\\n================Provide names to Rows df3==================\")\n",
    "row_names = [1,2,3]\n",
    "data_list = zip(name_list,age_list,salary_list)\n",
    "df3 = pd.DataFrame(data_list,index=row_names)\n",
    "print(df3)\n",
    "\n",
    "print(\"\\n================Add new column to existing DataFrame df3==================\")\n",
    "city_list = ['Hyd','Blr','Chn']\n",
    "df3['City'] = city_list\n",
    "print(df3)"
   ]
  },
  {
   "cell_type": "code",
   "execution_count": 2,
   "id": "d6bc109f-27aa-4403-a0c1-d00e558c4711",
   "metadata": {},
   "outputs": [
    {
     "data": {
      "text/plain": [
       "60"
      ]
     },
     "execution_count": 2,
     "metadata": {},
     "output_type": "execute_result"
    }
   ],
   "source": [
    "a = 20\n",
    "b = 40\n",
    "a+b"
   ]
  },
  {
   "cell_type": "code",
   "execution_count": null,
   "id": "100150d0-cf28-406b-a012-efa5e7fe6964",
   "metadata": {},
   "outputs": [],
   "source": []
  }
 ],
 "metadata": {
  "kernelspec": {
   "display_name": "Python 3 (ipykernel)",
   "language": "python",
   "name": "python3"
  },
  "language_info": {
   "codemirror_mode": {
    "name": "ipython",
    "version": 3
   },
   "file_extension": ".py",
   "mimetype": "text/x-python",
   "name": "python",
   "nbconvert_exporter": "python",
   "pygments_lexer": "ipython3",
   "version": "3.11.7"
  }
 },
 "nbformat": 4,
 "nbformat_minor": 5
}
